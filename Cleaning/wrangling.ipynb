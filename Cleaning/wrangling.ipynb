{
 "cells": [
  {
   "cell_type": "markdown",
   "metadata": {},
   "source": [
    "## `[todo]` Title of project\n",
    "\n",
    "### `[todo]` Reason for project (question)\n",
    "\n",
    "### `[todo]` Hoping to achieve\n"
   ]
  },
  {
   "cell_type": "markdown",
   "metadata": {},
   "source": [
    "### Importing and Checking Data"
   ]
  },
  {
   "cell_type": "code",
   "execution_count": 101,
   "metadata": {},
   "outputs": [
    {
     "data": {
      "text/html": [
       "<pre style=\"white-space:pre;overflow-x:auto;line-height:normal;font-family:Menlo,'DejaVu Sans Mono',consolas,'Courier New',monospace\">Local file: \n",
       "<span style=\"color: #0000ff; text-decoration-color: #0000ff; text-decoration: underline\">https://raw.githubusercontent.com/Reece323/air-scrape/main/Data/Bentonville_Ar.csv</span> loaded \n",
       "successfully.\n",
       "\n",
       "</pre>\n"
      ],
      "text/plain": [
       "Local file: \n",
       "\u001b[4;94mhttps://raw.githubusercontent.com/Reece323/air-scrape/main/Data/Bentonville_Ar.csv\u001b[0m loaded \n",
       "successfully.\n",
       "\n"
      ]
     },
     "metadata": {},
     "output_type": "display_data"
    },
    {
     "data": {
      "text/html": [
       "<pre style=\"white-space:pre;overflow-x:auto;line-height:normal;font-family:Menlo,'DejaVu Sans Mono',consolas,'Courier New',monospace\">Empty/uneeded columns dropped<span style=\"color: #808000; text-decoration-color: #808000\">...</span>\n",
       "\n",
       "</pre>\n"
      ],
      "text/plain": [
       "Empty/uneeded columns dropped\u001b[33m...\u001b[0m\n",
       "\n"
      ]
     },
     "metadata": {},
     "output_type": "display_data"
    },
    {
     "data": {
      "text/html": [
       "<pre style=\"white-space:pre;overflow-x:auto;line-height:normal;font-family:Menlo,'DejaVu Sans Mono',consolas,'Courier New',monospace\">The dataset has <span style=\"color: #008080; text-decoration-color: #008080; font-weight: bold\">300</span> rows and <span style=\"color: #008080; text-decoration-color: #008080; font-weight: bold\">14</span> columns with <span style=\"color: #008080; text-decoration-color: #008080; font-weight: bold\">0</span> duplicates.\n",
       "\n",
       "</pre>\n"
      ],
      "text/plain": [
       "The dataset has \u001b[1;36m300\u001b[0m rows and \u001b[1;36m14\u001b[0m columns with \u001b[1;36m0\u001b[0m duplicates.\n",
       "\n"
      ]
     },
     "metadata": {},
     "output_type": "display_data"
    },
    {
     "data": {
      "text/html": [
       "<pre style=\"white-space:pre;overflow-x:auto;line-height:normal;font-family:Menlo,'DejaVu Sans Mono',consolas,'Courier New',monospace\">Column names:\n",
       "<span style=\"font-weight: bold\">[</span><span style=\"color: #008000; text-decoration-color: #008000\">'url'</span>, <span style=\"color: #008000; text-decoration-color: #008000\">'header'</span>, <span style=\"color: #008000; text-decoration-color: #008000\">'guests'</span>, <span style=\"color: #008000; text-decoration-color: #008000\">'rooms'</span>, <span style=\"color: #008000; text-decoration-color: #008000\">'beds'</span>, <span style=\"color: #008000; text-decoration-color: #008000\">'baths'</span>, <span style=\"color: #008000; text-decoration-color: #008000\">'facilities'</span>, <span style=\"color: #008000; text-decoration-color: #008000\">'badge'</span>, <span style=\"color: #008000; text-decoration-color: #008000\">'rating'</span>, \n",
       "<span style=\"color: #008000; text-decoration-color: #008000\">'review_count'</span>, <span style=\"color: #008000; text-decoration-color: #008000\">'price'</span>, <span style=\"color: #008000; text-decoration-color: #008000\">'sp_url'</span>, <span style=\"color: #008000; text-decoration-color: #008000\">'location'</span>, <span style=\"color: #008000; text-decoration-color: #008000\">'amenities'</span><span style=\"font-weight: bold\">]</span>\n",
       "\n",
       "</pre>\n"
      ],
      "text/plain": [
       "Column names:\n",
       "\u001b[1m[\u001b[0m\u001b[32m'url'\u001b[0m, \u001b[32m'header'\u001b[0m, \u001b[32m'guests'\u001b[0m, \u001b[32m'rooms'\u001b[0m, \u001b[32m'beds'\u001b[0m, \u001b[32m'baths'\u001b[0m, \u001b[32m'facilities'\u001b[0m, \u001b[32m'badge'\u001b[0m, \u001b[32m'rating'\u001b[0m, \n",
       "\u001b[32m'review_count'\u001b[0m, \u001b[32m'price'\u001b[0m, \u001b[32m'sp_url'\u001b[0m, \u001b[32m'location'\u001b[0m, \u001b[32m'amenities'\u001b[0m\u001b[1m]\u001b[0m\n",
       "\n"
      ]
     },
     "metadata": {},
     "output_type": "display_data"
    },
    {
     "data": {
      "text/html": [
       "<pre style=\"white-space:pre;overflow-x:auto;line-height:normal;font-family:Menlo,'DejaVu Sans Mono',consolas,'Courier New',monospace\">Data type per column: \n",
       "object    <span style=\"color: #008080; text-decoration-color: #008080; font-weight: bold\">14</span>\n",
       "dtype: int64\n",
       "\n",
       "</pre>\n"
      ],
      "text/plain": [
       "Data type per column: \n",
       "object    \u001b[1;36m14\u001b[0m\n",
       "dtype: int64\n",
       "\n"
      ]
     },
     "metadata": {},
     "output_type": "display_data"
    }
   ],
   "source": [
    "# importing libraries\n",
    "import pandas as pd\n",
    "import numpy as np\n",
    "import re\n",
    "import rich\n",
    "from rich.console import Console\n",
    "\n",
    "console = Console()\n",
    "print = console.print\n",
    "\n",
    "# pd.set_option('display.max_colwidth', None)\n",
    "pd.set_option('display.max_columns', None)  \n",
    "pd.set_option('display.max_rows', None)  \n",
    "\n",
    "# Reading data\n",
    "url = 'https://raw.githubusercontent.com/Reece323/air-scrape/main/Data/Bentonville_Ar.csv'\n",
    "df = pd.read_csv(url)\n",
    "print(f'Local file: {url} loaded successfully.\\n')\n",
    "\n",
    "# Removing empty/unused columns and checking size of dataframe\n",
    "df = df.drop(columns=['host_joined','house_rules', 'specialties_1', 'name'])\n",
    "print('Empty/uneeded columns dropped...\\n')\n",
    "\n",
    "# checking shape\n",
    "print(f\"The dataset has {df.shape[0]} rows and {df.shape[1]} columns with {df.duplicated().sum()} duplicates.\\n\")\n",
    "\n",
    "# Looking at data columns and head\n",
    "names = df.columns.to_list()\n",
    "print(f'Column names:\\n{names}\\n')\n",
    "\n",
    "#dtypes\n",
    "dataTypeSeries = df.dtypes.value_counts()\n",
    "print(f'Data type per column: \\n{dataTypeSeries}\\n')"
   ]
  },
  {
   "cell_type": "code",
   "execution_count": 102,
   "metadata": {},
   "outputs": [],
   "source": [
    "# Splitting header column\n",
    "df['area'] = df['header'].replace(r' in ', '-' ,regex=True)\n",
    "stucture = df['area'].str.split('-', n = 1, expand = True)\n",
    "\n",
    "# adding new and dropping old subsets\n",
    "df[\"listing_type\"]= stucture[0]\n",
    "df['location_specific'] = stucture[1]\n",
    "\n",
    "# dropping old column\n",
    "df.drop(columns =[\"header\", 'location', 'area'], inplace = True)"
   ]
  },
  {
   "cell_type": "code",
   "execution_count": 103,
   "metadata": {},
   "outputs": [
    {
     "data": {
      "text/html": [
       "<pre style=\"white-space:pre;overflow-x:auto;line-height:normal;font-family:Menlo,'DejaVu Sans Mono',consolas,'Courier New',monospace\">listing_type: \n",
       "Entire residential home    <span style=\"color: #008080; text-decoration-color: #008080; font-weight: bold\">0.650000</span>\n",
       "Entire townhouse           <span style=\"color: #008080; text-decoration-color: #008080; font-weight: bold\">0.103333</span>\n",
       "Entire rental unit         <span style=\"color: #008080; text-decoration-color: #008080; font-weight: bold\">0.043333</span>\n",
       "Name: listing_type, dtype: float64\n",
       "\n",
       "</pre>\n"
      ],
      "text/plain": [
       "listing_type: \n",
       "Entire residential home    \u001b[1;36m0.650000\u001b[0m\n",
       "Entire townhouse           \u001b[1;36m0.103333\u001b[0m\n",
       "Entire rental unit         \u001b[1;36m0.043333\u001b[0m\n",
       "Name: listing_type, dtype: float64\n",
       "\n"
      ]
     },
     "metadata": {},
     "output_type": "display_data"
    },
    {
     "data": {
      "text/html": [
       "<pre style=\"white-space:pre;overflow-x:auto;line-height:normal;font-family:Menlo,'DejaVu Sans Mono',consolas,'Courier New',monospace\">location_specific: \n",
       "Fayetteville    <span style=\"color: #008080; text-decoration-color: #008080; font-weight: bold\">0.286667</span>\n",
       "Bella Vista     <span style=\"color: #008080; text-decoration-color: #008080; font-weight: bold\">0.260000</span>\n",
       "Bentonville     <span style=\"color: #008080; text-decoration-color: #008080; font-weight: bold\">0.146667</span>\n",
       "Name: location_specific, dtype: float64\n",
       "\n",
       "</pre>\n"
      ],
      "text/plain": [
       "location_specific: \n",
       "Fayetteville    \u001b[1;36m0.286667\u001b[0m\n",
       "Bella Vista     \u001b[1;36m0.260000\u001b[0m\n",
       "Bentonville     \u001b[1;36m0.146667\u001b[0m\n",
       "Name: location_specific, dtype: float64\n",
       "\n"
      ]
     },
     "metadata": {},
     "output_type": "display_data"
    }
   ],
   "source": [
    "print(f'listing_type: \\n{df[\"listing_type\"].value_counts(normalize=True).nlargest(3)}\\n')\n",
    "print(f'location_specific: \\n{df[\"location_specific\"].value_counts(normalize=True).nlargest(3)}\\n')"
   ]
  },
  {
   "cell_type": "markdown",
   "metadata": {},
   "source": [
    "### Price, Guests, Rooms, Beds, Baths Columns: Raw value is *str*, prefer int/float dtypes for better use"
   ]
  },
  {
   "cell_type": "code",
   "execution_count": 104,
   "metadata": {},
   "outputs": [
    {
     "data": {
      "text/html": [
       "<pre style=\"white-space:pre;overflow-x:auto;line-height:normal;font-family:Menlo,'DejaVu Sans Mono',consolas,'Courier New',monospace\">The dataset has <span style=\"color: #008080; text-decoration-color: #008080; font-weight: bold\">300</span> rows and <span style=\"color: #008080; text-decoration-color: #008080; font-weight: bold\">14</span> columns with <span style=\"color: #008080; text-decoration-color: #008080; font-weight: bold\">0</span> duplicates.\n",
       "\n",
       "</pre>\n"
      ],
      "text/plain": [
       "The dataset has \u001b[1;36m300\u001b[0m rows and \u001b[1;36m14\u001b[0m columns with \u001b[1;36m0\u001b[0m duplicates.\n",
       "\n"
      ]
     },
     "metadata": {},
     "output_type": "display_data"
    }
   ],
   "source": [
    "df = df.rename(columns={'price': 'price_per_night'})\n",
    "#changing price from string to int\n",
    "df['price_per_night'] = df['price_per_night'].str.replace('$', '',regex=True).str.replace(',', '')\n",
    "df['price_per_night'] = df['price_per_night'].astype(int)\n",
    "print(f\"The dataset has {df.shape[0]} rows and {df.shape[1]} columns with {df.duplicated().sum()} duplicates.\\n\")"
   ]
  },
  {
   "cell_type": "code",
   "execution_count": 105,
   "metadata": {},
   "outputs": [],
   "source": [
    "#function to check dtypes and % of unique values\n",
    "def checking(df_to_check):\n",
    "    print(f\"Cleaned data type: {df_to_check.dtype}\")\n",
    "    print(f'% of listings with # unique: \\n{df_to_check.value_counts(normalize=True).nlargest(4)}\\n')"
   ]
  },
  {
   "cell_type": "code",
   "execution_count": 106,
   "metadata": {},
   "outputs": [
    {
     "data": {
      "text/html": [
       "<pre style=\"white-space:pre;overflow-x:auto;line-height:normal;font-family:Menlo,'DejaVu Sans Mono',consolas,'Courier New',monospace\">Cleaned data type: object\n",
       "</pre>\n"
      ],
      "text/plain": [
       "Cleaned data type: object\n"
      ]
     },
     "metadata": {},
     "output_type": "display_data"
    },
    {
     "data": {
      "text/html": [
       "<pre style=\"white-space:pre;overflow-x:auto;line-height:normal;font-family:Menlo,'DejaVu Sans Mono',consolas,'Courier New',monospace\">% of listings with # unique: \n",
       "<span style=\"color: #008080; text-decoration-color: #008080; font-weight: bold\">6</span>     <span style=\"color: #008080; text-decoration-color: #008080; font-weight: bold\">0.306667</span>\n",
       "<span style=\"color: #008080; text-decoration-color: #008080; font-weight: bold\">8</span>     <span style=\"color: #008080; text-decoration-color: #008080; font-weight: bold\">0.216667</span>\n",
       "<span style=\"color: #008080; text-decoration-color: #008080; font-weight: bold\">4</span>     <span style=\"color: #008080; text-decoration-color: #008080; font-weight: bold\">0.180000</span>\n",
       "<span style=\"color: #008080; text-decoration-color: #008080; font-weight: bold\">10</span>    <span style=\"color: #008080; text-decoration-color: #008080; font-weight: bold\">0.066667</span>\n",
       "Name: guests, dtype: float64\n",
       "\n",
       "</pre>\n"
      ],
      "text/plain": [
       "% of listings with # unique: \n",
       "\u001b[1;36m6\u001b[0m     \u001b[1;36m0.306667\u001b[0m\n",
       "\u001b[1;36m8\u001b[0m     \u001b[1;36m0.216667\u001b[0m\n",
       "\u001b[1;36m4\u001b[0m     \u001b[1;36m0.180000\u001b[0m\n",
       "\u001b[1;36m10\u001b[0m    \u001b[1;36m0.066667\u001b[0m\n",
       "Name: guests, dtype: float64\n",
       "\n"
      ]
     },
     "metadata": {},
     "output_type": "display_data"
    },
    {
     "data": {
      "text/html": [
       "<pre style=\"white-space:pre;overflow-x:auto;line-height:normal;font-family:Menlo,'DejaVu Sans Mono',consolas,'Courier New',monospace\">Cleaned data type: int64\n",
       "</pre>\n"
      ],
      "text/plain": [
       "Cleaned data type: int64\n"
      ]
     },
     "metadata": {},
     "output_type": "display_data"
    },
    {
     "data": {
      "text/html": [
       "<pre style=\"white-space:pre;overflow-x:auto;line-height:normal;font-family:Menlo,'DejaVu Sans Mono',consolas,'Courier New',monospace\">% of listings with # unique: \n",
       "<span style=\"color: #008080; text-decoration-color: #008080; font-weight: bold\">3</span>    <span style=\"color: #008080; text-decoration-color: #008080; font-weight: bold\">0.430000</span>\n",
       "<span style=\"color: #008080; text-decoration-color: #008080; font-weight: bold\">2</span>    <span style=\"color: #008080; text-decoration-color: #008080; font-weight: bold\">0.240000</span>\n",
       "<span style=\"color: #008080; text-decoration-color: #008080; font-weight: bold\">4</span>    <span style=\"color: #008080; text-decoration-color: #008080; font-weight: bold\">0.170000</span>\n",
       "<span style=\"color: #008080; text-decoration-color: #008080; font-weight: bold\">1</span>    <span style=\"color: #008080; text-decoration-color: #008080; font-weight: bold\">0.063333</span>\n",
       "Name: rooms, dtype: float64\n",
       "\n",
       "</pre>\n"
      ],
      "text/plain": [
       "% of listings with # unique: \n",
       "\u001b[1;36m3\u001b[0m    \u001b[1;36m0.430000\u001b[0m\n",
       "\u001b[1;36m2\u001b[0m    \u001b[1;36m0.240000\u001b[0m\n",
       "\u001b[1;36m4\u001b[0m    \u001b[1;36m0.170000\u001b[0m\n",
       "\u001b[1;36m1\u001b[0m    \u001b[1;36m0.063333\u001b[0m\n",
       "Name: rooms, dtype: float64\n",
       "\n"
      ]
     },
     "metadata": {},
     "output_type": "display_data"
    },
    {
     "data": {
      "text/html": [
       "<pre style=\"white-space:pre;overflow-x:auto;line-height:normal;font-family:Menlo,'DejaVu Sans Mono',consolas,'Courier New',monospace\">Cleaned data type: int64\n",
       "</pre>\n"
      ],
      "text/plain": [
       "Cleaned data type: int64\n"
      ]
     },
     "metadata": {},
     "output_type": "display_data"
    },
    {
     "data": {
      "text/html": [
       "<pre style=\"white-space:pre;overflow-x:auto;line-height:normal;font-family:Menlo,'DejaVu Sans Mono',consolas,'Courier New',monospace\">% of listings with # unique: \n",
       "<span style=\"color: #008080; text-decoration-color: #008080; font-weight: bold\">3</span>    <span style=\"color: #008080; text-decoration-color: #008080; font-weight: bold\">0.270000</span>\n",
       "<span style=\"color: #008080; text-decoration-color: #008080; font-weight: bold\">4</span>    <span style=\"color: #008080; text-decoration-color: #008080; font-weight: bold\">0.243333</span>\n",
       "<span style=\"color: #008080; text-decoration-color: #008080; font-weight: bold\">2</span>    <span style=\"color: #008080; text-decoration-color: #008080; font-weight: bold\">0.143333</span>\n",
       "<span style=\"color: #008080; text-decoration-color: #008080; font-weight: bold\">5</span>    <span style=\"color: #008080; text-decoration-color: #008080; font-weight: bold\">0.136667</span>\n",
       "Name: beds, dtype: float64\n",
       "\n",
       "</pre>\n"
      ],
      "text/plain": [
       "% of listings with # unique: \n",
       "\u001b[1;36m3\u001b[0m    \u001b[1;36m0.270000\u001b[0m\n",
       "\u001b[1;36m4\u001b[0m    \u001b[1;36m0.243333\u001b[0m\n",
       "\u001b[1;36m2\u001b[0m    \u001b[1;36m0.143333\u001b[0m\n",
       "\u001b[1;36m5\u001b[0m    \u001b[1;36m0.136667\u001b[0m\n",
       "Name: beds, dtype: float64\n",
       "\n"
      ]
     },
     "metadata": {},
     "output_type": "display_data"
    },
    {
     "data": {
      "text/html": [
       "<pre style=\"white-space:pre;overflow-x:auto;line-height:normal;font-family:Menlo,'DejaVu Sans Mono',consolas,'Courier New',monospace\">Cleaned data type: float64\n",
       "</pre>\n"
      ],
      "text/plain": [
       "Cleaned data type: float64\n"
      ]
     },
     "metadata": {},
     "output_type": "display_data"
    },
    {
     "data": {
      "text/html": [
       "<pre style=\"white-space:pre;overflow-x:auto;line-height:normal;font-family:Menlo,'DejaVu Sans Mono',consolas,'Courier New',monospace\">% of listings with # unique: \n",
       "<span style=\"color: #008080; text-decoration-color: #008080; font-weight: bold\">2.0</span>    <span style=\"color: #008080; text-decoration-color: #008080; font-weight: bold\">0.456667</span>\n",
       "<span style=\"color: #008080; text-decoration-color: #008080; font-weight: bold\">2.5</span>    <span style=\"color: #008080; text-decoration-color: #008080; font-weight: bold\">0.140000</span>\n",
       "<span style=\"color: #008080; text-decoration-color: #008080; font-weight: bold\">1.0</span>    <span style=\"color: #008080; text-decoration-color: #008080; font-weight: bold\">0.140000</span>\n",
       "<span style=\"color: #008080; text-decoration-color: #008080; font-weight: bold\">3.0</span>    <span style=\"color: #008080; text-decoration-color: #008080; font-weight: bold\">0.110000</span>\n",
       "Name: baths, dtype: float64\n",
       "\n",
       "</pre>\n"
      ],
      "text/plain": [
       "% of listings with # unique: \n",
       "\u001b[1;36m2.0\u001b[0m    \u001b[1;36m0.456667\u001b[0m\n",
       "\u001b[1;36m2.5\u001b[0m    \u001b[1;36m0.140000\u001b[0m\n",
       "\u001b[1;36m1.0\u001b[0m    \u001b[1;36m0.140000\u001b[0m\n",
       "\u001b[1;36m3.0\u001b[0m    \u001b[1;36m0.110000\u001b[0m\n",
       "Name: baths, dtype: float64\n",
       "\n"
      ]
     },
     "metadata": {},
     "output_type": "display_data"
    }
   ],
   "source": [
    "# 'guests'\n",
    "new = df[\"guests\"].str.split(\" \", n = 1, expand = True)\n",
    "# making separate column from new data frame\n",
    "df[\"guests\"] = new[0]\n",
    "# checking 'guests'\n",
    "checking(df.guests)\n",
    "\n",
    "# 'rooms'\n",
    "df['rooms'] = df['rooms'].replace('Studio', '0 bedrooms')\n",
    "new = df[\"rooms\"].str.split(\" \", n = 1, expand = True)\n",
    "# making separate column from new data frame\n",
    "df[\"rooms\"] = new[0]\n",
    "# changing str to int\n",
    "df['rooms'] = df['rooms'].astype(int) \n",
    "# checking 'rooms'\n",
    "checking(df.rooms)\n",
    "\n",
    "# 'beds'\n",
    "df['beds'] = df['beds'].str.replace(r'2.5 baths', '3 beds',regex=True)\n",
    "new = df[\"beds\"].str.split(\" \", n = 1, expand = True)\n",
    "# making separate column from new data frame\n",
    "df[\"beds\"] = new[0]\n",
    "# changing str to int\n",
    "df['beds'] = df['beds'].astype(int) \n",
    "# checking 'beds'\n",
    "checking(df.beds)\n",
    "\n",
    "# 'baths'\n",
    "df['baths'] = df['baths'].str.replace(r'Wifi', '2.5 baths',regex=True)\n",
    "df['baths'] = df['baths'].str.replace(r'Half-bath', '.5 baths',regex=True)\n",
    "new = df[\"baths\"].str.split(\" \", n = 1, expand = True)\n",
    "# making separate column from new data frame\n",
    "df[\"baths\"] = new[0]\n",
    "# changing str to int\n",
    "df['baths'] = df['baths'].astype(float) \n",
    "# checking 'baths'\n",
    "checking(df.baths)"
   ]
  },
  {
   "cell_type": "markdown",
   "metadata": {},
   "source": [
    "### Column Facilities: Wanting to split and have their own columns"
   ]
  },
  {
   "cell_type": "code",
   "execution_count": 107,
   "metadata": {},
   "outputs": [],
   "source": [
    "LIST_FACILITIES = [\n",
    "    'Kitchen',\n",
    "    'Wifi',\n",
    "    'Free parking',\n",
    "    'Self check-in'\n",
    "]\n",
    "\n",
    "def make_facilities(data, list_facilities=LIST_FACILITIES):\n",
    "    data_facilities = data.loc[:, ['url', 'facilities']]\n",
    "\n",
    "    for i in list_facilities:\n",
    "        data_facilities[f\"facility_{i}\"] = data_facilities['facilities'].fillna('empty').str.split(' · ').apply(lambda x: 1 if i in x else 0)\n",
    "    data_facilities.drop('facilities', axis=1, inplace=True)\n",
    "\n",
    "    return data_facilities\n",
    "\n",
    "# Merging new facilities\n",
    "df_facilities = make_facilities(df)\n",
    "clean_df = pd.merge (df_facilities, df)\n",
    "clean_df = clean_df.drop(columns=['facilities'])"
   ]
  },
  {
   "cell_type": "markdown",
   "metadata": {},
   "source": [
    "### Working on *badge*, *reviews*, and *rating* columns"
   ]
  },
  {
   "cell_type": "code",
   "execution_count": 108,
   "metadata": {},
   "outputs": [],
   "source": [
    "# working on 'badge' column\n",
    "clean_df = clean_df.rename(columns={'badge': 'superhost'})\n",
    "clean_df[\"superhost\"].replace({'SUPERHOST': 1, 'empty': 0}, inplace=True)"
   ]
  },
  {
   "cell_type": "code",
   "execution_count": 109,
   "metadata": {},
   "outputs": [],
   "source": [
    "# 'review_count' column\n",
    "clean_df['review_count'] = clean_df['review_count'].str.replace(r'(', '',regex=True)\n",
    "clean_df['review_count'] = clean_df['review_count'].str.replace(r')', '',regex=True)\n",
    "new = clean_df['review_count'].str.replace(r'empty', ' 0 reviews',regex=True)\n",
    "new = new.replace(r'\\D', '',regex=True)\n",
    "clean_df['review_count'] = new\n"
   ]
  },
  {
   "cell_type": "code",
   "execution_count": 110,
   "metadata": {},
   "outputs": [
    {
     "data": {
      "text/html": [
       "<div>\n",
       "<style scoped>\n",
       "    .dataframe tbody tr th:only-of-type {\n",
       "        vertical-align: middle;\n",
       "    }\n",
       "\n",
       "    .dataframe tbody tr th {\n",
       "        vertical-align: top;\n",
       "    }\n",
       "\n",
       "    .dataframe thead th {\n",
       "        text-align: right;\n",
       "    }\n",
       "</style>\n",
       "<table border=\"1\" class=\"dataframe\">\n",
       "  <thead>\n",
       "    <tr style=\"text-align: right;\">\n",
       "      <th></th>\n",
       "      <th>url</th>\n",
       "      <th>facility_Kitchen</th>\n",
       "      <th>facility_Wifi</th>\n",
       "      <th>facility_Free parking</th>\n",
       "      <th>facility_Self check-in</th>\n",
       "      <th>guests</th>\n",
       "      <th>rooms</th>\n",
       "      <th>beds</th>\n",
       "      <th>baths</th>\n",
       "      <th>superhost</th>\n",
       "      <th>rating</th>\n",
       "      <th>review_count</th>\n",
       "      <th>price_per_night</th>\n",
       "      <th>sp_url</th>\n",
       "      <th>amenities</th>\n",
       "      <th>listing_type</th>\n",
       "      <th>location_specific</th>\n",
       "    </tr>\n",
       "  </thead>\n",
       "  <tbody>\n",
       "    <tr>\n",
       "      <th>0</th>\n",
       "      <td>/rooms/568774443413437016?adults=4&amp;check_in=20...</td>\n",
       "      <td>1</td>\n",
       "      <td>1</td>\n",
       "      <td>1</td>\n",
       "      <td>1</td>\n",
       "      <td>8</td>\n",
       "      <td>3</td>\n",
       "      <td>4</td>\n",
       "      <td>2.0</td>\n",
       "      <td>1</td>\n",
       "      <td>none</td>\n",
       "      <td>0</td>\n",
       "      <td>126</td>\n",
       "      <td>https://www.airbnb.com/s/Bentonville--Arkansas...</td>\n",
       "      <td>{\"amenities\": [\"Hair dryer\", \"Cleaning product...</td>\n",
       "      <td>Entire residential home</td>\n",
       "      <td>Downtown Bentonville</td>\n",
       "    </tr>\n",
       "    <tr>\n",
       "      <th>1</th>\n",
       "      <td>/rooms/39864150?adults=4&amp;check_in=2022-03-30&amp;c...</td>\n",
       "      <td>1</td>\n",
       "      <td>1</td>\n",
       "      <td>1</td>\n",
       "      <td>1</td>\n",
       "      <td>8</td>\n",
       "      <td>4</td>\n",
       "      <td>4</td>\n",
       "      <td>3.0</td>\n",
       "      <td>0</td>\n",
       "      <td>none</td>\n",
       "      <td>0</td>\n",
       "      <td>121</td>\n",
       "      <td>https://www.airbnb.com/s/Bentonville--Arkansas...</td>\n",
       "      <td>{\"amenities\": [\"Bathtub\", \"Hair dryer\", \"Washe...</td>\n",
       "      <td>Entire residential home</td>\n",
       "      <td>Bentonville</td>\n",
       "    </tr>\n",
       "    <tr>\n",
       "      <th>2</th>\n",
       "      <td>/rooms/23161645?adults=4&amp;check_in=2022-03-30&amp;c...</td>\n",
       "      <td>1</td>\n",
       "      <td>1</td>\n",
       "      <td>1</td>\n",
       "      <td>1</td>\n",
       "      <td>8</td>\n",
       "      <td>3</td>\n",
       "      <td>3</td>\n",
       "      <td>2.5</td>\n",
       "      <td>1</td>\n",
       "      <td>4.99</td>\n",
       "      <td>101</td>\n",
       "      <td>194</td>\n",
       "      <td>https://www.airbnb.com/s/Bentonville--Arkansas...</td>\n",
       "      <td>{\"amenities\": [\"Bathtub\", \"Hair dryer\", \"Shamp...</td>\n",
       "      <td>Entire townhouse</td>\n",
       "      <td>Downtown Bentonville</td>\n",
       "    </tr>\n",
       "    <tr>\n",
       "      <th>3</th>\n",
       "      <td>/rooms/584082363006663396?adults=4&amp;check_in=20...</td>\n",
       "      <td>1</td>\n",
       "      <td>1</td>\n",
       "      <td>1</td>\n",
       "      <td>1</td>\n",
       "      <td>6</td>\n",
       "      <td>3</td>\n",
       "      <td>3</td>\n",
       "      <td>2.0</td>\n",
       "      <td>1</td>\n",
       "      <td>none</td>\n",
       "      <td>0</td>\n",
       "      <td>122</td>\n",
       "      <td>https://www.airbnb.com/s/Bentonville--Arkansas...</td>\n",
       "      <td>{\"amenities\": [\"Washer\", \"TV\", \"Air conditioni...</td>\n",
       "      <td>Entire residential home</td>\n",
       "      <td>Bella Vista</td>\n",
       "    </tr>\n",
       "    <tr>\n",
       "      <th>4</th>\n",
       "      <td>/rooms/31653766?adults=4&amp;check_in=2022-03-30&amp;c...</td>\n",
       "      <td>1</td>\n",
       "      <td>1</td>\n",
       "      <td>1</td>\n",
       "      <td>1</td>\n",
       "      <td>6</td>\n",
       "      <td>3</td>\n",
       "      <td>3</td>\n",
       "      <td>2.0</td>\n",
       "      <td>1</td>\n",
       "      <td>4.90</td>\n",
       "      <td>31</td>\n",
       "      <td>129</td>\n",
       "      <td>https://www.airbnb.com/s/Bentonville--Arkansas...</td>\n",
       "      <td>{\"amenities\": [\"Hair dryer\", \"Shampoo\", \"Hot w...</td>\n",
       "      <td>Entire residential home</td>\n",
       "      <td>Bentonville</td>\n",
       "    </tr>\n",
       "  </tbody>\n",
       "</table>\n",
       "</div>"
      ],
      "text/plain": [
       "                                                 url  facility_Kitchen  \\\n",
       "0  /rooms/568774443413437016?adults=4&check_in=20...                 1   \n",
       "1  /rooms/39864150?adults=4&check_in=2022-03-30&c...                 1   \n",
       "2  /rooms/23161645?adults=4&check_in=2022-03-30&c...                 1   \n",
       "3  /rooms/584082363006663396?adults=4&check_in=20...                 1   \n",
       "4  /rooms/31653766?adults=4&check_in=2022-03-30&c...                 1   \n",
       "\n",
       "   facility_Wifi  facility_Free parking  facility_Self check-in guests  rooms  \\\n",
       "0              1                      1                       1      8      3   \n",
       "1              1                      1                       1      8      4   \n",
       "2              1                      1                       1      8      3   \n",
       "3              1                      1                       1      6      3   \n",
       "4              1                      1                       1      6      3   \n",
       "\n",
       "   beds  baths  superhost rating review_count  price_per_night  \\\n",
       "0     4    2.0          1   none            0              126   \n",
       "1     4    3.0          0   none            0              121   \n",
       "2     3    2.5          1   4.99          101              194   \n",
       "3     3    2.0          1   none            0              122   \n",
       "4     3    2.0          1   4.90           31              129   \n",
       "\n",
       "                                              sp_url  \\\n",
       "0  https://www.airbnb.com/s/Bentonville--Arkansas...   \n",
       "1  https://www.airbnb.com/s/Bentonville--Arkansas...   \n",
       "2  https://www.airbnb.com/s/Bentonville--Arkansas...   \n",
       "3  https://www.airbnb.com/s/Bentonville--Arkansas...   \n",
       "4  https://www.airbnb.com/s/Bentonville--Arkansas...   \n",
       "\n",
       "                                           amenities             listing_type  \\\n",
       "0  {\"amenities\": [\"Hair dryer\", \"Cleaning product...  Entire residential home   \n",
       "1  {\"amenities\": [\"Bathtub\", \"Hair dryer\", \"Washe...  Entire residential home   \n",
       "2  {\"amenities\": [\"Bathtub\", \"Hair dryer\", \"Shamp...         Entire townhouse   \n",
       "3  {\"amenities\": [\"Washer\", \"TV\", \"Air conditioni...  Entire residential home   \n",
       "4  {\"amenities\": [\"Hair dryer\", \"Shampoo\", \"Hot w...  Entire residential home   \n",
       "\n",
       "      location_specific  \n",
       "0  Downtown Bentonville  \n",
       "1           Bentonville  \n",
       "2  Downtown Bentonville  \n",
       "3           Bella Vista  \n",
       "4           Bentonville  "
      ]
     },
     "execution_count": 110,
     "metadata": {},
     "output_type": "execute_result"
    }
   ],
   "source": [
    "# 'rating' column\n",
    "clean_df['rating'] = clean_df['rating'].str.replace(r'empty', 'none',regex=True)\n",
    "clean_df.head()\n"
   ]
  },
  {
   "cell_type": "markdown",
   "metadata": {},
   "source": [
    "### Column *listing type*"
   ]
  },
  {
   "cell_type": "code",
   "execution_count": 111,
   "metadata": {},
   "outputs": [],
   "source": [
    "LISTING_TYPES = [\n",
    "    'Entire residential home', 'Entire townhouse',\n",
    "    'Entire condominium (condo)', 'Entire cottage',\n",
    "    'Entire rental unit', 'Entire loft', 'Entire guesthouse',\n",
    "    'Entire cabin', 'Tiny house', 'Entire vacation home',\n",
    "    'Resort room', 'Entire place', 'Barn', 'Entire guest suite',\n",
    "    'Private room', 'Camper/RV', 'Entire bungalow', 'Entire villa',\n",
    "    'Campsite', 'Entire chalet', 'Farm stay'\n",
    "]\n",
    "\n",
    "def make_listings(data, listing_types=LISTING_TYPES):\n",
    "    data_listing_type = data.loc[:, ['url', 'listing_type']]\n",
    "\n",
    "    for i in listing_types:\n",
    "        data_listing_type[f\"type_{i}\"] = data_listing_type['listing_type'].fillna('empty').str.split(' · ').apply(lambda x: 1 if i in x else 0)\n",
    "    data_listing_type.drop('listing_type', axis=1, inplace=True)\n",
    "\n",
    "    return data_listing_type\n",
    "\n",
    "# Merging new facilities\n",
    "df_listing_types = make_listings(clean_df)\n",
    "df = pd.merge (df_listing_types, clean_df)\n",
    "df = df.drop(columns=['listing_type'])\n",
    "df.columns = df.columns.str.replace(' ', '_')"
   ]
  },
  {
   "cell_type": "markdown",
   "metadata": {},
   "source": [
    "### Column *location_specific*"
   ]
  },
  {
   "cell_type": "code",
   "execution_count": 112,
   "metadata": {},
   "outputs": [],
   "source": [
    "Location_Specific = ['Downtown Bentonville', 'Bentonville', 'Bella Vista', 'Rogers',\n",
    "       'Centerton', 'Fayetteville', 'Springdale', 'Lowell', 'Township 2',\n",
    "       'Little Flock', 'Washington County', 'Farmington'\n",
    "]\n",
    "\n",
    "def make_listings(data, location=Location_Specific):\n",
    "    location_type = data.loc[:, ['url', 'location_specific']]\n",
    "\n",
    "    for i in location:\n",
    "        location_type[f\"area_{i}\"] = location_type['location_specific'].fillna('empty').str.split(' · ').apply(lambda x: 1 if i in x else 0)\n",
    "    location_type.drop('location_specific', axis=1, inplace=True)\n",
    "\n",
    "    return location_type\n",
    "\n",
    "# Merging new locations\n",
    "df_listing_types = make_listings(df)\n",
    "df = pd.merge (df_listing_types, df)\n",
    "df = df.drop(columns=['location_specific'])\n",
    "df.columns = df.columns.str.replace(' ', '_')"
   ]
  },
  {
   "cell_type": "code",
   "execution_count": 113,
   "metadata": {},
   "outputs": [],
   "source": [
    "df.rename(columns={'type_Entire_condominium_(condo)': 'type_Entire_condominium'}, inplace = True)"
   ]
  },
  {
   "cell_type": "code",
   "execution_count": 114,
   "metadata": {},
   "outputs": [
    {
     "data": {
      "text/html": [
       "<pre style=\"white-space:pre;overflow-x:auto;line-height:normal;font-family:Menlo,'DejaVu Sans Mono',consolas,'Courier New',monospace\"><span style=\"color: #800080; text-decoration-color: #800080; font-weight: bold\">Index</span><span style=\"font-weight: bold\">([</span><span style=\"color: #008000; text-decoration-color: #008000\">'url'</span>, <span style=\"color: #008000; text-decoration-color: #008000\">'area_Downtown_Bentonville'</span>, <span style=\"color: #008000; text-decoration-color: #008000\">'area_Bentonville'</span>,\n",
       "       <span style=\"color: #008000; text-decoration-color: #008000\">'area_Bella_Vista'</span>, <span style=\"color: #008000; text-decoration-color: #008000\">'area_Rogers'</span>, <span style=\"color: #008000; text-decoration-color: #008000\">'area_Centerton'</span>,\n",
       "       <span style=\"color: #008000; text-decoration-color: #008000\">'area_Fayetteville'</span>, <span style=\"color: #008000; text-decoration-color: #008000\">'area_Springdale'</span>, <span style=\"color: #008000; text-decoration-color: #008000\">'area_Lowell'</span>,\n",
       "       <span style=\"color: #008000; text-decoration-color: #008000\">'area_Township_2'</span>, <span style=\"color: #008000; text-decoration-color: #008000\">'area_Little_Flock'</span>, <span style=\"color: #008000; text-decoration-color: #008000\">'area_Washington_County'</span>,\n",
       "       <span style=\"color: #008000; text-decoration-color: #008000\">'area_Farmington'</span>, <span style=\"color: #008000; text-decoration-color: #008000\">'type_Entire_residential_home'</span>,\n",
       "       <span style=\"color: #008000; text-decoration-color: #008000\">'type_Entire_townhouse'</span>, <span style=\"color: #008000; text-decoration-color: #008000\">'type_Entire_condominium'</span>,\n",
       "       <span style=\"color: #008000; text-decoration-color: #008000\">'type_Entire_cottage'</span>, <span style=\"color: #008000; text-decoration-color: #008000\">'type_Entire_rental_unit'</span>, <span style=\"color: #008000; text-decoration-color: #008000\">'type_Entire_loft'</span>,\n",
       "       <span style=\"color: #008000; text-decoration-color: #008000\">'type_Entire_guesthouse'</span>, <span style=\"color: #008000; text-decoration-color: #008000\">'type_Entire_cabin'</span>, <span style=\"color: #008000; text-decoration-color: #008000\">'type_Tiny_house'</span>,\n",
       "       <span style=\"color: #008000; text-decoration-color: #008000\">'type_Entire_vacation_home'</span>, <span style=\"color: #008000; text-decoration-color: #008000\">'type_Resort_room'</span>, <span style=\"color: #008000; text-decoration-color: #008000\">'type_Entire_place'</span>,\n",
       "       <span style=\"color: #008000; text-decoration-color: #008000\">'type_Barn'</span>, <span style=\"color: #008000; text-decoration-color: #008000\">'type_Entire_guest_suite'</span>, <span style=\"color: #008000; text-decoration-color: #008000\">'type_Private_room'</span>,\n",
       "       <span style=\"color: #008000; text-decoration-color: #008000\">'type_Camper/RV'</span>, <span style=\"color: #008000; text-decoration-color: #008000\">'type_Entire_bungalow'</span>, <span style=\"color: #008000; text-decoration-color: #008000\">'type_Entire_villa'</span>,\n",
       "       <span style=\"color: #008000; text-decoration-color: #008000\">'type_Campsite'</span>, <span style=\"color: #008000; text-decoration-color: #008000\">'type_Entire_chalet'</span>, <span style=\"color: #008000; text-decoration-color: #008000\">'type_Farm_stay'</span>,\n",
       "       <span style=\"color: #008000; text-decoration-color: #008000\">'facility_Kitchen'</span>, <span style=\"color: #008000; text-decoration-color: #008000\">'facility_Wifi'</span>, <span style=\"color: #008000; text-decoration-color: #008000\">'facility_Free_parking'</span>,\n",
       "       <span style=\"color: #008000; text-decoration-color: #008000\">'facility_Self_check-in'</span>, <span style=\"color: #008000; text-decoration-color: #008000\">'guests'</span>, <span style=\"color: #008000; text-decoration-color: #008000\">'rooms'</span>, <span style=\"color: #008000; text-decoration-color: #008000\">'beds'</span>, <span style=\"color: #008000; text-decoration-color: #008000\">'baths'</span>,\n",
       "       <span style=\"color: #008000; text-decoration-color: #008000\">'superhost'</span>, <span style=\"color: #008000; text-decoration-color: #008000\">'rating'</span>, <span style=\"color: #008000; text-decoration-color: #008000\">'review_count'</span>, <span style=\"color: #008000; text-decoration-color: #008000\">'price_per_night'</span>, <span style=\"color: #008000; text-decoration-color: #008000\">'sp_url'</span>,\n",
       "       <span style=\"color: #008000; text-decoration-color: #008000\">'amenities'</span><span style=\"font-weight: bold\">]</span>,\n",
       "      <span style=\"color: #808000; text-decoration-color: #808000\">dtype</span>=<span style=\"color: #008000; text-decoration-color: #008000\">'object'</span><span style=\"font-weight: bold\">)</span>\n",
       "</pre>\n"
      ],
      "text/plain": [
       "\u001b[1;35mIndex\u001b[0m\u001b[1m(\u001b[0m\u001b[1m[\u001b[0m\u001b[32m'url'\u001b[0m, \u001b[32m'area_Downtown_Bentonville'\u001b[0m, \u001b[32m'area_Bentonville'\u001b[0m,\n",
       "       \u001b[32m'area_Bella_Vista'\u001b[0m, \u001b[32m'area_Rogers'\u001b[0m, \u001b[32m'area_Centerton'\u001b[0m,\n",
       "       \u001b[32m'area_Fayetteville'\u001b[0m, \u001b[32m'area_Springdale'\u001b[0m, \u001b[32m'area_Lowell'\u001b[0m,\n",
       "       \u001b[32m'area_Township_2'\u001b[0m, \u001b[32m'area_Little_Flock'\u001b[0m, \u001b[32m'area_Washington_County'\u001b[0m,\n",
       "       \u001b[32m'area_Farmington'\u001b[0m, \u001b[32m'type_Entire_residential_home'\u001b[0m,\n",
       "       \u001b[32m'type_Entire_townhouse'\u001b[0m, \u001b[32m'type_Entire_condominium'\u001b[0m,\n",
       "       \u001b[32m'type_Entire_cottage'\u001b[0m, \u001b[32m'type_Entire_rental_unit'\u001b[0m, \u001b[32m'type_Entire_loft'\u001b[0m,\n",
       "       \u001b[32m'type_Entire_guesthouse'\u001b[0m, \u001b[32m'type_Entire_cabin'\u001b[0m, \u001b[32m'type_Tiny_house'\u001b[0m,\n",
       "       \u001b[32m'type_Entire_vacation_home'\u001b[0m, \u001b[32m'type_Resort_room'\u001b[0m, \u001b[32m'type_Entire_place'\u001b[0m,\n",
       "       \u001b[32m'type_Barn'\u001b[0m, \u001b[32m'type_Entire_guest_suite'\u001b[0m, \u001b[32m'type_Private_room'\u001b[0m,\n",
       "       \u001b[32m'type_Camper/RV'\u001b[0m, \u001b[32m'type_Entire_bungalow'\u001b[0m, \u001b[32m'type_Entire_villa'\u001b[0m,\n",
       "       \u001b[32m'type_Campsite'\u001b[0m, \u001b[32m'type_Entire_chalet'\u001b[0m, \u001b[32m'type_Farm_stay'\u001b[0m,\n",
       "       \u001b[32m'facility_Kitchen'\u001b[0m, \u001b[32m'facility_Wifi'\u001b[0m, \u001b[32m'facility_Free_parking'\u001b[0m,\n",
       "       \u001b[32m'facility_Self_check-in'\u001b[0m, \u001b[32m'guests'\u001b[0m, \u001b[32m'rooms'\u001b[0m, \u001b[32m'beds'\u001b[0m, \u001b[32m'baths'\u001b[0m,\n",
       "       \u001b[32m'superhost'\u001b[0m, \u001b[32m'rating'\u001b[0m, \u001b[32m'review_count'\u001b[0m, \u001b[32m'price_per_night'\u001b[0m, \u001b[32m'sp_url'\u001b[0m,\n",
       "       \u001b[32m'amenities'\u001b[0m\u001b[1m]\u001b[0m,\n",
       "      \u001b[33mdtype\u001b[0m=\u001b[32m'object'\u001b[0m\u001b[1m)\u001b[0m\n"
      ]
     },
     "metadata": {},
     "output_type": "display_data"
    }
   ],
   "source": [
    "print(df.columns)"
   ]
  },
  {
   "cell_type": "code",
   "execution_count": 115,
   "metadata": {},
   "outputs": [],
   "source": [
    "#reordering columns to have urls up front\n",
    "cols = list(df)\n",
    "# print(cols)\n",
    "# move the column to head of list using index, pop and insert\n",
    "cols.insert(0, cols.pop(cols.index('sp_url')))\n",
    "# print(cols)\n",
    "# use ix to reorder\n",
    "df = df.loc[:, cols]"
   ]
  },
  {
   "cell_type": "code",
   "execution_count": 116,
   "metadata": {},
   "outputs": [
    {
     "data": {
      "text/html": [
       "<div>\n",
       "<style scoped>\n",
       "    .dataframe tbody tr th:only-of-type {\n",
       "        vertical-align: middle;\n",
       "    }\n",
       "\n",
       "    .dataframe tbody tr th {\n",
       "        vertical-align: top;\n",
       "    }\n",
       "\n",
       "    .dataframe thead th {\n",
       "        text-align: right;\n",
       "    }\n",
       "</style>\n",
       "<table border=\"1\" class=\"dataframe\">\n",
       "  <thead>\n",
       "    <tr style=\"text-align: right;\">\n",
       "      <th></th>\n",
       "      <th>area_Downtown_Bentonville</th>\n",
       "      <th>area_Bentonville</th>\n",
       "      <th>area_Bella_Vista</th>\n",
       "      <th>area_Rogers</th>\n",
       "      <th>area_Centerton</th>\n",
       "      <th>area_Fayetteville</th>\n",
       "      <th>area_Springdale</th>\n",
       "      <th>area_Lowell</th>\n",
       "      <th>area_Township_2</th>\n",
       "      <th>area_Little_Flock</th>\n",
       "      <th>area_Washington_County</th>\n",
       "      <th>area_Farmington</th>\n",
       "      <th>type_Entire_residential_home</th>\n",
       "      <th>type_Entire_townhouse</th>\n",
       "      <th>type_Entire_condominium</th>\n",
       "      <th>type_Entire_cottage</th>\n",
       "      <th>type_Entire_rental_unit</th>\n",
       "      <th>type_Entire_loft</th>\n",
       "      <th>type_Entire_guesthouse</th>\n",
       "      <th>type_Entire_cabin</th>\n",
       "      <th>type_Tiny_house</th>\n",
       "      <th>type_Entire_vacation_home</th>\n",
       "      <th>type_Resort_room</th>\n",
       "      <th>type_Entire_place</th>\n",
       "      <th>type_Barn</th>\n",
       "      <th>type_Entire_guest_suite</th>\n",
       "      <th>type_Private_room</th>\n",
       "      <th>type_Camper/RV</th>\n",
       "      <th>type_Entire_bungalow</th>\n",
       "      <th>type_Entire_villa</th>\n",
       "      <th>type_Campsite</th>\n",
       "      <th>type_Entire_chalet</th>\n",
       "      <th>type_Farm_stay</th>\n",
       "      <th>facility_Kitchen</th>\n",
       "      <th>facility_Wifi</th>\n",
       "      <th>facility_Free_parking</th>\n",
       "      <th>facility_Self_check-in</th>\n",
       "      <th>guests</th>\n",
       "      <th>rooms</th>\n",
       "      <th>beds</th>\n",
       "      <th>baths</th>\n",
       "      <th>superhost</th>\n",
       "      <th>rating</th>\n",
       "      <th>review_count</th>\n",
       "      <th>price_per_night</th>\n",
       "    </tr>\n",
       "  </thead>\n",
       "  <tbody>\n",
       "    <tr>\n",
       "      <th>0</th>\n",
       "      <td>1</td>\n",
       "      <td>0</td>\n",
       "      <td>0</td>\n",
       "      <td>0</td>\n",
       "      <td>0</td>\n",
       "      <td>0</td>\n",
       "      <td>0</td>\n",
       "      <td>0</td>\n",
       "      <td>0</td>\n",
       "      <td>0</td>\n",
       "      <td>0</td>\n",
       "      <td>0</td>\n",
       "      <td>1</td>\n",
       "      <td>0</td>\n",
       "      <td>0</td>\n",
       "      <td>0</td>\n",
       "      <td>0</td>\n",
       "      <td>0</td>\n",
       "      <td>0</td>\n",
       "      <td>0</td>\n",
       "      <td>0</td>\n",
       "      <td>0</td>\n",
       "      <td>0</td>\n",
       "      <td>0</td>\n",
       "      <td>0</td>\n",
       "      <td>0</td>\n",
       "      <td>0</td>\n",
       "      <td>0</td>\n",
       "      <td>0</td>\n",
       "      <td>0</td>\n",
       "      <td>0</td>\n",
       "      <td>0</td>\n",
       "      <td>0</td>\n",
       "      <td>1</td>\n",
       "      <td>1</td>\n",
       "      <td>1</td>\n",
       "      <td>1</td>\n",
       "      <td>8</td>\n",
       "      <td>3</td>\n",
       "      <td>4</td>\n",
       "      <td>2.0</td>\n",
       "      <td>1</td>\n",
       "      <td>none</td>\n",
       "      <td>0</td>\n",
       "      <td>126</td>\n",
       "    </tr>\n",
       "    <tr>\n",
       "      <th>1</th>\n",
       "      <td>0</td>\n",
       "      <td>1</td>\n",
       "      <td>0</td>\n",
       "      <td>0</td>\n",
       "      <td>0</td>\n",
       "      <td>0</td>\n",
       "      <td>0</td>\n",
       "      <td>0</td>\n",
       "      <td>0</td>\n",
       "      <td>0</td>\n",
       "      <td>0</td>\n",
       "      <td>0</td>\n",
       "      <td>1</td>\n",
       "      <td>0</td>\n",
       "      <td>0</td>\n",
       "      <td>0</td>\n",
       "      <td>0</td>\n",
       "      <td>0</td>\n",
       "      <td>0</td>\n",
       "      <td>0</td>\n",
       "      <td>0</td>\n",
       "      <td>0</td>\n",
       "      <td>0</td>\n",
       "      <td>0</td>\n",
       "      <td>0</td>\n",
       "      <td>0</td>\n",
       "      <td>0</td>\n",
       "      <td>0</td>\n",
       "      <td>0</td>\n",
       "      <td>0</td>\n",
       "      <td>0</td>\n",
       "      <td>0</td>\n",
       "      <td>0</td>\n",
       "      <td>1</td>\n",
       "      <td>1</td>\n",
       "      <td>1</td>\n",
       "      <td>1</td>\n",
       "      <td>8</td>\n",
       "      <td>4</td>\n",
       "      <td>4</td>\n",
       "      <td>3.0</td>\n",
       "      <td>0</td>\n",
       "      <td>none</td>\n",
       "      <td>0</td>\n",
       "      <td>121</td>\n",
       "    </tr>\n",
       "    <tr>\n",
       "      <th>2</th>\n",
       "      <td>1</td>\n",
       "      <td>0</td>\n",
       "      <td>0</td>\n",
       "      <td>0</td>\n",
       "      <td>0</td>\n",
       "      <td>0</td>\n",
       "      <td>0</td>\n",
       "      <td>0</td>\n",
       "      <td>0</td>\n",
       "      <td>0</td>\n",
       "      <td>0</td>\n",
       "      <td>0</td>\n",
       "      <td>0</td>\n",
       "      <td>1</td>\n",
       "      <td>0</td>\n",
       "      <td>0</td>\n",
       "      <td>0</td>\n",
       "      <td>0</td>\n",
       "      <td>0</td>\n",
       "      <td>0</td>\n",
       "      <td>0</td>\n",
       "      <td>0</td>\n",
       "      <td>0</td>\n",
       "      <td>0</td>\n",
       "      <td>0</td>\n",
       "      <td>0</td>\n",
       "      <td>0</td>\n",
       "      <td>0</td>\n",
       "      <td>0</td>\n",
       "      <td>0</td>\n",
       "      <td>0</td>\n",
       "      <td>0</td>\n",
       "      <td>0</td>\n",
       "      <td>1</td>\n",
       "      <td>1</td>\n",
       "      <td>1</td>\n",
       "      <td>1</td>\n",
       "      <td>8</td>\n",
       "      <td>3</td>\n",
       "      <td>3</td>\n",
       "      <td>2.5</td>\n",
       "      <td>1</td>\n",
       "      <td>4.99</td>\n",
       "      <td>101</td>\n",
       "      <td>194</td>\n",
       "    </tr>\n",
       "    <tr>\n",
       "      <th>3</th>\n",
       "      <td>0</td>\n",
       "      <td>0</td>\n",
       "      <td>1</td>\n",
       "      <td>0</td>\n",
       "      <td>0</td>\n",
       "      <td>0</td>\n",
       "      <td>0</td>\n",
       "      <td>0</td>\n",
       "      <td>0</td>\n",
       "      <td>0</td>\n",
       "      <td>0</td>\n",
       "      <td>0</td>\n",
       "      <td>1</td>\n",
       "      <td>0</td>\n",
       "      <td>0</td>\n",
       "      <td>0</td>\n",
       "      <td>0</td>\n",
       "      <td>0</td>\n",
       "      <td>0</td>\n",
       "      <td>0</td>\n",
       "      <td>0</td>\n",
       "      <td>0</td>\n",
       "      <td>0</td>\n",
       "      <td>0</td>\n",
       "      <td>0</td>\n",
       "      <td>0</td>\n",
       "      <td>0</td>\n",
       "      <td>0</td>\n",
       "      <td>0</td>\n",
       "      <td>0</td>\n",
       "      <td>0</td>\n",
       "      <td>0</td>\n",
       "      <td>0</td>\n",
       "      <td>1</td>\n",
       "      <td>1</td>\n",
       "      <td>1</td>\n",
       "      <td>1</td>\n",
       "      <td>6</td>\n",
       "      <td>3</td>\n",
       "      <td>3</td>\n",
       "      <td>2.0</td>\n",
       "      <td>1</td>\n",
       "      <td>none</td>\n",
       "      <td>0</td>\n",
       "      <td>122</td>\n",
       "    </tr>\n",
       "    <tr>\n",
       "      <th>4</th>\n",
       "      <td>0</td>\n",
       "      <td>1</td>\n",
       "      <td>0</td>\n",
       "      <td>0</td>\n",
       "      <td>0</td>\n",
       "      <td>0</td>\n",
       "      <td>0</td>\n",
       "      <td>0</td>\n",
       "      <td>0</td>\n",
       "      <td>0</td>\n",
       "      <td>0</td>\n",
       "      <td>0</td>\n",
       "      <td>1</td>\n",
       "      <td>0</td>\n",
       "      <td>0</td>\n",
       "      <td>0</td>\n",
       "      <td>0</td>\n",
       "      <td>0</td>\n",
       "      <td>0</td>\n",
       "      <td>0</td>\n",
       "      <td>0</td>\n",
       "      <td>0</td>\n",
       "      <td>0</td>\n",
       "      <td>0</td>\n",
       "      <td>0</td>\n",
       "      <td>0</td>\n",
       "      <td>0</td>\n",
       "      <td>0</td>\n",
       "      <td>0</td>\n",
       "      <td>0</td>\n",
       "      <td>0</td>\n",
       "      <td>0</td>\n",
       "      <td>0</td>\n",
       "      <td>1</td>\n",
       "      <td>1</td>\n",
       "      <td>1</td>\n",
       "      <td>1</td>\n",
       "      <td>6</td>\n",
       "      <td>3</td>\n",
       "      <td>3</td>\n",
       "      <td>2.0</td>\n",
       "      <td>1</td>\n",
       "      <td>4.90</td>\n",
       "      <td>31</td>\n",
       "      <td>129</td>\n",
       "    </tr>\n",
       "  </tbody>\n",
       "</table>\n",
       "</div>"
      ],
      "text/plain": [
       "   area_Downtown_Bentonville  area_Bentonville  area_Bella_Vista  area_Rogers  \\\n",
       "0                          1                 0                 0            0   \n",
       "1                          0                 1                 0            0   \n",
       "2                          1                 0                 0            0   \n",
       "3                          0                 0                 1            0   \n",
       "4                          0                 1                 0            0   \n",
       "\n",
       "   area_Centerton  area_Fayetteville  area_Springdale  area_Lowell  \\\n",
       "0               0                  0                0            0   \n",
       "1               0                  0                0            0   \n",
       "2               0                  0                0            0   \n",
       "3               0                  0                0            0   \n",
       "4               0                  0                0            0   \n",
       "\n",
       "   area_Township_2  area_Little_Flock  area_Washington_County  \\\n",
       "0                0                  0                       0   \n",
       "1                0                  0                       0   \n",
       "2                0                  0                       0   \n",
       "3                0                  0                       0   \n",
       "4                0                  0                       0   \n",
       "\n",
       "   area_Farmington  type_Entire_residential_home  type_Entire_townhouse  \\\n",
       "0                0                             1                      0   \n",
       "1                0                             1                      0   \n",
       "2                0                             0                      1   \n",
       "3                0                             1                      0   \n",
       "4                0                             1                      0   \n",
       "\n",
       "   type_Entire_condominium  type_Entire_cottage  type_Entire_rental_unit  \\\n",
       "0                        0                    0                        0   \n",
       "1                        0                    0                        0   \n",
       "2                        0                    0                        0   \n",
       "3                        0                    0                        0   \n",
       "4                        0                    0                        0   \n",
       "\n",
       "   type_Entire_loft  type_Entire_guesthouse  type_Entire_cabin  \\\n",
       "0                 0                       0                  0   \n",
       "1                 0                       0                  0   \n",
       "2                 0                       0                  0   \n",
       "3                 0                       0                  0   \n",
       "4                 0                       0                  0   \n",
       "\n",
       "   type_Tiny_house  type_Entire_vacation_home  type_Resort_room  \\\n",
       "0                0                          0                 0   \n",
       "1                0                          0                 0   \n",
       "2                0                          0                 0   \n",
       "3                0                          0                 0   \n",
       "4                0                          0                 0   \n",
       "\n",
       "   type_Entire_place  type_Barn  type_Entire_guest_suite  type_Private_room  \\\n",
       "0                  0          0                        0                  0   \n",
       "1                  0          0                        0                  0   \n",
       "2                  0          0                        0                  0   \n",
       "3                  0          0                        0                  0   \n",
       "4                  0          0                        0                  0   \n",
       "\n",
       "   type_Camper/RV  type_Entire_bungalow  type_Entire_villa  type_Campsite  \\\n",
       "0               0                     0                  0              0   \n",
       "1               0                     0                  0              0   \n",
       "2               0                     0                  0              0   \n",
       "3               0                     0                  0              0   \n",
       "4               0                     0                  0              0   \n",
       "\n",
       "   type_Entire_chalet  type_Farm_stay  facility_Kitchen  facility_Wifi  \\\n",
       "0                   0               0                 1              1   \n",
       "1                   0               0                 1              1   \n",
       "2                   0               0                 1              1   \n",
       "3                   0               0                 1              1   \n",
       "4                   0               0                 1              1   \n",
       "\n",
       "   facility_Free_parking  facility_Self_check-in guests  rooms  beds  baths  \\\n",
       "0                      1                       1      8      3     4    2.0   \n",
       "1                      1                       1      8      4     4    3.0   \n",
       "2                      1                       1      8      3     3    2.5   \n",
       "3                      1                       1      6      3     3    2.0   \n",
       "4                      1                       1      6      3     3    2.0   \n",
       "\n",
       "   superhost rating review_count  price_per_night  \n",
       "0          1   none            0              126  \n",
       "1          0   none            0              121  \n",
       "2          1   4.99          101              194  \n",
       "3          1   none            0              122  \n",
       "4          1   4.90           31              129  "
      ]
     },
     "execution_count": 116,
     "metadata": {},
     "output_type": "execute_result"
    }
   ],
   "source": [
    "df[['area_Downtown_Bentonville', 'area_Bentonville', 'area_Bella_Vista',\n",
    "       'area_Rogers', 'area_Centerton', 'area_Fayetteville', 'area_Springdale',\n",
    "       'area_Lowell', 'area_Township_2', 'area_Little_Flock',\n",
    "       'area_Washington_County', 'area_Farmington',\n",
    "       'type_Entire_residential_home', 'type_Entire_townhouse',\n",
    "       'type_Entire_condominium',\n",
    "       'type_Entire_cottage', 'type_Entire_rental_unit',\n",
    "       'type_Entire_loft', 'type_Entire_guesthouse',\n",
    "       'type_Entire_cabin', 'type_Tiny_house',\n",
    "       'type_Entire_vacation_home', 'type_Resort_room',\n",
    "       'type_Entire_place', 'type_Barn',\n",
    "       'type_Entire_guest_suite', 'type_Private_room',\n",
    "       'type_Camper/RV', 'type_Entire_bungalow',\n",
    "       'type_Entire_villa', 'type_Campsite',\n",
    "       'type_Entire_chalet', 'type_Farm_stay',\n",
    "       'facility_Kitchen', 'facility_Wifi', 'facility_Free_parking',\n",
    "       'facility_Self_check-in', 'guests', 'rooms', 'beds', 'baths',\n",
    "       'superhost', 'rating', 'review_count', 'price_per_night']].head()"
   ]
  },
  {
   "cell_type": "markdown",
   "metadata": {},
   "source": [
    "### Tackling amenities"
   ]
  },
  {
   "cell_type": "code",
   "execution_count": 118,
   "metadata": {},
   "outputs": [],
   "source": [
    "df.loc[df['amenities'].str.contains('tv', case=False), 'amenities'] = 'TV'"
   ]
  },
  {
   "cell_type": "code",
   "execution_count": null,
   "metadata": {},
   "outputs": [],
   "source": [
    "df['amenities'].value_counts(normalize=True)"
   ]
  }
 ],
 "metadata": {
  "interpreter": {
   "hash": "efcc0ebdabff6a15780ff54cbf2fe60002d6f14d9ea9de25c1a5c220acae5659"
  },
  "kernelspec": {
   "display_name": "Python 3.8.8 ('base')",
   "language": "python",
   "name": "python3"
  },
  "language_info": {
   "codemirror_mode": {
    "name": "ipython",
    "version": 3
   },
   "file_extension": ".py",
   "mimetype": "text/x-python",
   "name": "python",
   "nbconvert_exporter": "python",
   "pygments_lexer": "ipython3",
   "version": "3.9.7"
  },
  "orig_nbformat": 4
 },
 "nbformat": 4,
 "nbformat_minor": 2
}
