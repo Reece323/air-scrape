{
  "cells": [
    {
      "cell_type": "markdown",
      "metadata": {
        "id": "vyGOoQK--suC"
      },
      "source": [
        "### Imports"
      ]
    },
    {
      "cell_type": "code",
      "execution_count": 1,
      "metadata": {},
      "outputs": [
        {
          "name": "stderr",
          "output_type": "stream",
          "text": [
            "/Users/codyreece/Desktop/Repos/airbnb/air-scrape/venv/lib/python3.9/site-packages/xgboost/compat.py:36: FutureWarning: pandas.Int64Index is deprecated and will be removed from pandas in a future version. Use pandas.Index with the appropriate dtype instead.\n",
            "  from pandas import MultiIndex, Int64Index\n"
          ]
        }
      ],
      "source": [
        "\n",
        "import xgboost as xg\n",
        "from xgboost import plot_importance\n",
        "from sklearn.model_selection import train_test_split, KFold\n",
        "from sklearn.metrics import mean_squared_error, r2_score\n",
        "from sklearn.preprocessing import StandardScaler\n",
        "from sklearn.utils import shuffle\n",
        "import pandas as pd\n",
        "import numpy as np\n",
        "from matplotlib import pyplot"
      ]
    },
    {
      "cell_type": "code",
      "execution_count": 2,
      "metadata": {
        "colab": {
          "base_uri": "https://localhost:8080/"
        },
        "id": "QUlWioQ_Ewh6",
        "outputId": "1614fb75-6814-43df-dcf6-c8cda60910f3"
      },
      "outputs": [],
      "source": [
        "# !pip install --upgrade category_encoders rich catboost\n",
        "from rich.console import Console\n",
        "console = Console()\n",
        "print = console.print\n",
        "from wrangling import X, y"
      ]
    },
    {
      "cell_type": "code",
      "execution_count": 3,
      "metadata": {
        "id": "DLSNojRdJs6T"
      },
      "outputs": [],
      "source": [
        "import time\n",
        "import math\n",
        "import pandas as pd\n",
        "import numpy as np\n",
        "import seaborn as sns\n",
        "import sys\n",
        "import matplotlib.pyplot as plt\n",
        "\n",
        "import yellowbrick as yb\n",
        "from yellowbrick.features import Rank1D\n",
        "from yellowbrick.regressor import AlphaSelection, PredictionError, ResidualsPlot\n",
        "from yellowbrick.datasets import load_energy\n",
        "from yellowbrick.model_selection import ValidationCurve\n",
        "from yellowbrick.style import set_palette\n",
        "\n",
        "import sklearn\n",
        "from sklearn.metrics import mean_squared_error\n",
        "from sklearn.metrics import mean_absolute_error\n",
        "from sklearn.metrics import r2_score\n",
        "from sklearn.metrics import classification_report\n",
        "from sklearn.metrics import confusion_matrix\n",
        "from sklearn.metrics import accuracy_score\n",
        "\n",
        "from sklearn.model_selection import cross_val_score\n",
        "from sklearn.model_selection import cross_val_predict\n",
        "from sklearn.model_selection import train_test_split\n",
        "from sklearn.model_selection import RepeatedStratifiedKFold\n",
        "from sklearn.model_selection import GridSearchCV, RandomizedSearchCV\n",
        "\n",
        "from sklearn.gaussian_process import GaussianProcessRegressor\n",
        "from sklearn.linear_model import LinearRegression\n",
        "from sklearn.linear_model import Ridge\n",
        "from sklearn.linear_model import Lars\n",
        "from sklearn.linear_model import TheilSenRegressor\n",
        "from sklearn.linear_model import HuberRegressor\n",
        "from sklearn.linear_model import PassiveAggressiveRegressor\n",
        "from sklearn.linear_model import ARDRegression\n",
        "from sklearn.linear_model import BayesianRidge\n",
        "from sklearn.linear_model import ElasticNet\n",
        "from sklearn.linear_model import OrthogonalMatchingPursuit\n",
        "\n",
        "from sklearn.svm import SVR\n",
        "from sklearn.svm import NuSVR\n",
        "from sklearn.svm import LinearSVR\n",
        "\n",
        "from sklearn.preprocessing import StandardScaler\n",
        "\n",
        "from sklearn.ensemble import RandomForestRegressor\n",
        "from sklearn.ensemble import ExtraTreesRegressor\n",
        "from sklearn.ensemble import GradientBoostingRegressor\n",
        "from sklearn.ensemble import AdaBoostRegressor\n",
        "\n",
        "from sklearn.tree import DecisionTreeRegressor\n",
        "from sklearn.kernel_ridge import KernelRidge\n",
        "from sklearn.isotonic import IsotonicRegression\n",
        "from sklearn import linear_model\n",
        "from sklearn.linear_model import Lasso\n",
        "\n",
        "import xgboost as xgb\n",
        "from xgboost import XGBRegressor\n",
        "import lightgbm as lgb\n",
        "import catboost as ctb\n",
        "\n",
        "from hyperopt import STATUS_OK, STATUS_FAIL, Trials, fmin, hp, tpe\n",
        "\n",
        "np.set_printoptions(precision=3, suppress=True)\n",
        "import tensorflow as tf\n",
        "\n",
        "from tensorflow import keras\n",
        "from tensorflow.keras import layers\n",
        "\n",
        "import warnings\n",
        "warnings.filterwarnings('ignore')"
      ]
    },
    {
      "cell_type": "code",
      "execution_count": 4,
      "metadata": {
        "id": "v1Rn66CNE-6O"
      },
      "outputs": [],
      "source": [
        "X_train,X_test,y_train,y_test = train_test_split(X,y,test_size=0.15,random_state=1)"
      ]
    },
    {
      "cell_type": "code",
      "execution_count": 5,
      "metadata": {
        "id": "w43TfvAhFHlt"
      },
      "outputs": [],
      "source": [
        "plt.style.context('dark_background')\n",
        "set_palette('sns_bright')\n",
        "\n",
        "cm = sns.color_palette(\"blend:white,#00ff77\", as_cmap=True)\n",
        "\n",
        "def headd(i):\n",
        "    return i.style.background_gradient(cmap = cm,axis=None)"
      ]
    },
    {
      "cell_type": "markdown",
      "metadata": {
        "id": "nma7g9uF-ysz"
      },
      "source": [
        "### Visuals"
      ]
    },
    {
      "cell_type": "code",
      "execution_count": null,
      "metadata": {
        "colab": {
          "base_uri": "https://localhost:8080/",
          "height": 1000
        },
        "id": "EU66xZbjJs6Y",
        "outputId": "cb86623b-057c-4c33-d7a7-d11a67f9eae1"
      },
      "outputs": [],
      "source": [
        "## Ranking the features\n",
        "\n",
        "fig, ax = plt.subplots(1, figsize=(10, 35))\n",
        "vzr = Rank1D(ax=ax, color='#00ff77')\n",
        "vzr.fit(X_train, y_train)\n",
        "vzr.transform(X_train)\n",
        "sns.despine(left=True, bottom=True)\n",
        "vzr.poof();"
      ]
    },
    {
      "cell_type": "code",
      "execution_count": null,
      "metadata": {
        "colab": {
          "base_uri": "https://localhost:8080/",
          "height": 363
        },
        "id": "heARyAA8Js6e",
        "outputId": "28e98396-4be8-4ae0-a789-b925fec93c13"
      },
      "outputs": [],
      "source": [
        "X_outliers = pd.DataFrame(index=X.columns, columns=['outliers', 'outliers%'])\n",
        "\n",
        "for col in X.columns:\n",
        "    if any(x in str(X[col].dtype)for x in ['int', 'float', 'int64', 'uint8']):\n",
        "        \n",
        "        X_outliers.loc[col, 'count'] = len(X)\n",
        "        X_outliers.loc[col, 'q1'] = X[col].quantile(0.25)\n",
        "        X_outliers.loc[col, 'q3'] = X[col].quantile(0.75)\n",
        "        X_outliers.loc[col, 'iqr'] = X_outliers.loc[col, 'q3'] - X_outliers.loc[col, 'q1']\n",
        "        X_outliers.loc[col, 'lower'] = X_outliers.loc[col, 'q1'] - (3 * X_outliers.loc[col, 'iqr'])\n",
        "        X_outliers.loc[col, 'upper'] = X_outliers.loc[col, 'q3'] + (3 * X_outliers.loc[col, 'iqr'])\n",
        "        X_outliers.loc[col, 'min'] = X[col].min()\n",
        "        X_outliers.loc[col, 'max'] = X[col].max()\n",
        "        X_outliers.loc[col, 'outliers'] = ((X[col] < X_outliers.loc[col, 'lower']) | (X[col] > X_outliers.loc[col,'upper'])).sum()\n",
        "        X_outliers.loc[col, 'outliers%'] = np.round(X_outliers.loc[col,\n",
        "        'outliers'] / len(X) *100)\n",
        "        \n",
        "headd(X_outliers.head(10))"
      ]
    },
    {
      "cell_type": "code",
      "execution_count": null,
      "metadata": {
        "colab": {
          "base_uri": "https://localhost:8080/",
          "height": 342
        },
        "id": "BKB22tafJs6e",
        "outputId": "0bad4267-ca68-41a1-f996-df07190ae5ba"
      },
      "outputs": [],
      "source": [
        "#Distribution of price\n",
        "%matplotlib inline\n",
        "\n",
        "fig, axs = plt.subplots(ncols=2, figsize=(14, 4))\n",
        "fig.suptitle('Distribution of max guests (before and after removing large listings > 10)', weight='bold', fontsize=12)\n",
        "\n",
        "# Before cleaning\n",
        "x_axis=X['numberOfGuests'].dropna()\n",
        "sns.distplot(pd.Series(x_axis, name='Max guests (before cleaning)'), ax=axs[0])\n",
        "\n",
        "# Remove where price > 1000\n",
        "condition = X[X['numberOfGuests'] > 400]\n",
        "rows_to_drop = condition.index\n",
        "print(\"You dropped {} rows.\".format(condition.shape[0]))\n",
        "X = X.drop(rows_to_drop, axis=0)\n",
        "print(\"Dataset has {} rows, {} columns.\".format(*X.shape))\n",
        "\n",
        "#After cleaning\n",
        "x_axis=X['numberOfGuests'].dropna()\n",
        "sns.distplot(pd.Series(x_axis, name='Max guests (after cleaning)'), ax=axs[1]);"
      ]
    },
    {
      "cell_type": "code",
      "execution_count": null,
      "metadata": {
        "colab": {
          "base_uri": "https://localhost:8080/",
          "height": 51
        },
        "id": "WZ0itckqJs6g",
        "outputId": "1f3c571b-218c-40df-9b07-a6c47ec06f19"
      },
      "outputs": [],
      "source": [
        "## Adding est. Annual Revenue\n",
        "print(\"Dataset has {} rows, {}  before engineering.\".format(*X.shape))\n",
        "avg_occupancy_per_week = 4\n",
        "X['yield'] = avg_occupancy_per_week * y  * 52\n",
        "\n",
        "# cols_to_drop = ['cleaning_fee']\n",
        "# df = df.drop(cols_to_drop, axis = 1)\n",
        "print(\"Dataset has {} rows, {} columns.\".format(*X.shape))\n"
      ]
    },
    {
      "cell_type": "markdown",
      "metadata": {
        "id": "HcqG7v8NJs6g"
      },
      "source": [
        "### Linear Regression"
      ]
    },
    {
      "cell_type": "code",
      "execution_count": null,
      "metadata": {
        "colab": {
          "base_uri": "https://localhost:8080/"
        },
        "id": "atqlHUSEe4Bv",
        "outputId": "d997b302-cf32-4010-d2d9-a10ba5a8823c"
      },
      "outputs": [],
      "source": [
        "model1 = LinearRegression()\n",
        "model1.fit(X_train, y_train)"
      ]
    },
    {
      "cell_type": "code",
      "execution_count": null,
      "metadata": {
        "colab": {
          "base_uri": "https://localhost:8080/"
        },
        "id": "aTwbu8kzfm-Y",
        "outputId": "cc80e54c-fc4f-4121-e515-7456b13bbb69"
      },
      "outputs": [],
      "source": [
        "y_pred = model1.predict(X_test)\n",
        "\n",
        "lr=r2_score(y_test, y_pred)\n",
        "lr"
      ]
    },
    {
      "cell_type": "code",
      "execution_count": null,
      "metadata": {
        "colab": {
          "base_uri": "https://localhost:8080/"
        },
        "id": "zTPBjLF9e3-2",
        "outputId": "42b88ce6-3a15-4f8f-b2f2-b8bb0f712243"
      },
      "outputs": [],
      "source": [
        "training_score=model1.score(X_train,y_train)\n",
        "training_score"
      ]
    },
    {
      "cell_type": "code",
      "execution_count": null,
      "metadata": {
        "colab": {
          "base_uri": "https://localhost:8080/",
          "height": 119
        },
        "id": "1Rp1jaYDe333",
        "outputId": "677002d2-69d4-4d49-fa97-54432d2a5ccc"
      },
      "outputs": [],
      "source": [
        "# model evaluation for testing set\n",
        "\n",
        "mae = mean_absolute_error(y_test, y_pred)\n",
        "mse = mean_squared_error(y_test, y_pred)\n",
        "rmse = math.sqrt(mean_squared_error(y_test, y_pred))\n",
        "r2 = r2_score(y_test, y_pred)\n",
        "\n",
        "\n",
        "print(\"The model performance for testing set\")\n",
        "print(\"--------------------------------------\")\n",
        "print('MAE:  {}'.format(round(mae)))\n",
        "print('MSE:  {}'.format(round(mse)))\n",
        "print('RMSE: {}'.format(round(rmse)))\n",
        "print('R2:   {}'.format(round(r2, 3)))"
      ]
    },
    {
      "cell_type": "code",
      "execution_count": null,
      "metadata": {
        "colab": {
          "base_uri": "https://localhost:8080/",
          "height": 238
        },
        "id": "c90P1ST0a7ky",
        "outputId": "3c0b232d-5f32-40e2-d6a4-e0fa4b40677e"
      },
      "outputs": [],
      "source": [
        "lr_price= pd.DataFrame({'Actual':y_test,'Predict':y_pred})\n",
        "lr_price.head()"
      ]
    },
    {
      "cell_type": "code",
      "execution_count": null,
      "metadata": {
        "colab": {
          "base_uri": "https://localhost:8080/",
          "height": 265
        },
        "id": "b_VBlYczbMwR",
        "outputId": "92e16962-c24c-4485-ce2b-d1381beeb218"
      },
      "outputs": [],
      "source": [
        "# Density plot for lr\n",
        "\n",
        "lr_reg = lr_price.plot.kde()"
      ]
    },
    {
      "cell_type": "markdown",
      "metadata": {
        "id": "M5mliYyNbS5O"
      },
      "source": [
        "### XGBRegressor"
      ]
    },
    {
      "cell_type": "code",
      "execution_count": null,
      "metadata": {
        "colab": {
          "base_uri": "https://localhost:8080/"
        },
        "id": "iSH1L_ctbR1A",
        "outputId": "d2478a32-259a-4e56-f877-2a19790208b6"
      },
      "outputs": [],
      "source": [
        "model2=XGBRegressor(silent=True)\n",
        "model2.fit(X_train,y_train)"
      ]
    },
    {
      "cell_type": "code",
      "execution_count": null,
      "metadata": {
        "colab": {
          "base_uri": "https://localhost:8080/"
        },
        "id": "FkU3XhEMbf5Q",
        "outputId": "dc218b8a-4692-4f2a-96ff-711a7164c367"
      },
      "outputs": [],
      "source": [
        "from sklearn.metrics import r2_score,classification_report\n",
        "\n",
        "y_pred = model2.predict(X_test)\n",
        "\n",
        "xgb=(r2_score(y_test, y_pred))\n",
        "xgb"
      ]
    },
    {
      "cell_type": "code",
      "execution_count": null,
      "metadata": {
        "colab": {
          "base_uri": "https://localhost:8080/"
        },
        "id": "A1eWGNNNbnr9",
        "outputId": "b4f8fb22-6be7-45e1-90bd-fb51dec9b47b"
      },
      "outputs": [],
      "source": [
        "training_score=model2.score(X_train,y_train)\n",
        "training_score"
      ]
    },
    {
      "cell_type": "code",
      "execution_count": null,
      "metadata": {
        "colab": {
          "base_uri": "https://localhost:8080/",
          "height": 119
        },
        "id": "QainQvS2buCu",
        "outputId": "e27a0e1c-f384-41f8-93e0-0ae75b9d4f8c"
      },
      "outputs": [],
      "source": [
        "# model evaluation for testing set\n",
        "\n",
        "mae = mean_absolute_error(y_test, y_pred)\n",
        "mse = mean_squared_error(y_test, y_pred)\n",
        "rmse = math.sqrt(mean_squared_error(y_test, y_pred))\n",
        "r2 = r2_score(y_test, y_pred)\n",
        "\n",
        "\n",
        "print(\"The model performance for testing set\")\n",
        "print(\"--------------------------------------\")\n",
        "print('MAE:  {}'.format(round(mae)))\n",
        "print('MSE:  {}'.format(round(mse)))\n",
        "print('RMSE: {}'.format(round(rmse)))\n",
        "print('R2:   {}'.format(round(r2, 3)))"
      ]
    },
    {
      "cell_type": "code",
      "execution_count": null,
      "metadata": {
        "colab": {
          "base_uri": "https://localhost:8080/",
          "height": 238
        },
        "id": "Lufst1DDb6MJ",
        "outputId": "230d0783-44dc-461c-cbca-960e31d68504"
      },
      "outputs": [],
      "source": [
        "xgb_price= pd.DataFrame({'Actual':y_test,'Predict':y_pred})\n",
        "xgb_price.head()"
      ]
    },
    {
      "cell_type": "code",
      "execution_count": null,
      "metadata": {
        "colab": {
          "base_uri": "https://localhost:8080/",
          "height": 265
        },
        "id": "WjeIsQr6b_fP",
        "outputId": "3840360f-0820-493d-b9c6-1de50aead9b0"
      },
      "outputs": [],
      "source": [
        "xgb_reg = xgb_price.plot.kde()"
      ]
    },
    {
      "cell_type": "markdown",
      "metadata": {
        "id": "kgU0iSQacFuI"
      },
      "source": [
        "### Ridge Regression"
      ]
    },
    {
      "cell_type": "code",
      "execution_count": null,
      "metadata": {
        "colab": {
          "base_uri": "https://localhost:8080/"
        },
        "id": "ouQk5EvXcO3z",
        "outputId": "6c1c20aa-92f0-4586-fe17-ac84668bf716"
      },
      "outputs": [],
      "source": [
        "from sklearn.linear_model import Ridge\n",
        "model3=Ridge()\n",
        "model3.fit(X_train,y_train)"
      ]
    },
    {
      "cell_type": "code",
      "execution_count": null,
      "metadata": {
        "colab": {
          "base_uri": "https://localhost:8080/"
        },
        "id": "Mh0eDDp0cO0r",
        "outputId": "01198421-8d08-49fe-f1bf-43d53932e304"
      },
      "outputs": [],
      "source": [
        "y_pred = model3.predict(X_test)\n",
        "\n",
        "rr=r2_score(y_test, y_pred)\n",
        "rr"
      ]
    },
    {
      "cell_type": "code",
      "execution_count": null,
      "metadata": {
        "colab": {
          "base_uri": "https://localhost:8080/"
        },
        "id": "hK6Zos35cOxV",
        "outputId": "37e314f2-a739-43e1-e612-e2c51489023b"
      },
      "outputs": [],
      "source": [
        "training_score=model3.score(X_train,y_train)\n",
        "training_score"
      ]
    },
    {
      "cell_type": "code",
      "execution_count": null,
      "metadata": {
        "colab": {
          "base_uri": "https://localhost:8080/",
          "height": 119
        },
        "id": "cKbVeRBDcOmV",
        "outputId": "358b8758-c1c4-4b2b-c2e8-7563f19b2740"
      },
      "outputs": [],
      "source": [
        "# model evaluation for testing set\n",
        "\n",
        "mae = mean_absolute_error(y_test, y_pred)\n",
        "mse = mean_squared_error(y_test, y_pred)\n",
        "rmse = math.sqrt(mean_squared_error(y_test, y_pred))\n",
        "r2 = r2_score(y_test, y_pred)\n",
        "\n",
        "\n",
        "print(\"The model performance for testing set\")\n",
        "print(\"--------------------------------------\")\n",
        "print('MAE:  {}'.format(round(mae)))\n",
        "print('MSE:  {}'.format(round(mse)))\n",
        "print('RMSE: {}'.format(round(rmse)))\n",
        "print('R2:   {}'.format(round(r2, 3)))"
      ]
    },
    {
      "cell_type": "code",
      "execution_count": null,
      "metadata": {
        "colab": {
          "base_uri": "https://localhost:8080/",
          "height": 238
        },
        "id": "CJYP6nDOcgj0",
        "outputId": "187ffc5c-edce-42a6-9cfb-009e7e11c453"
      },
      "outputs": [],
      "source": [
        "rr_price= pd.DataFrame({'Actual':y_test,'Predict':y_pred})\n",
        "rr_price.head()"
      ]
    },
    {
      "cell_type": "code",
      "execution_count": null,
      "metadata": {
        "colab": {
          "base_uri": "https://localhost:8080/",
          "height": 265
        },
        "id": "YqUykSK2cmYy",
        "outputId": "da155dc0-eca2-40a9-8c4c-a9495fdd580c"
      },
      "outputs": [],
      "source": [
        "rr_reg = rr_price.plot.kde()"
      ]
    },
    {
      "cell_type": "markdown",
      "metadata": {
        "id": "USm1dvu_crc9"
      },
      "source": [
        "### Random Forest Regression"
      ]
    },
    {
      "cell_type": "code",
      "execution_count": null,
      "metadata": {
        "colab": {
          "base_uri": "https://localhost:8080/"
        },
        "id": "XqihSQaqcwuy",
        "outputId": "b5c4f3a8-f8a0-4728-dd18-5d4050eaeee4"
      },
      "outputs": [],
      "source": [
        "from sklearn.ensemble import RandomForestRegressor\n",
        "model4=RandomForestRegressor()\n",
        "model4.fit(X_train,y_train)"
      ]
    },
    {
      "cell_type": "code",
      "execution_count": null,
      "metadata": {
        "colab": {
          "base_uri": "https://localhost:8080/"
        },
        "id": "V4dRxYfLc8UZ",
        "outputId": "e9e139fc-a1ea-4aa4-b299-a32f60a6ebe8"
      },
      "outputs": [],
      "source": [
        "y_pred = model4.predict(X_test)\n",
        "\n",
        "rf=r2_score(y_test, y_pred)\n",
        "rf"
      ]
    },
    {
      "cell_type": "code",
      "execution_count": null,
      "metadata": {
        "colab": {
          "base_uri": "https://localhost:8080/"
        },
        "id": "awMQioyQcwri",
        "outputId": "171ec3c3-6850-4719-f055-0c4917587ea1"
      },
      "outputs": [],
      "source": [
        "training_score=model4.score(X_train,y_train)\n",
        "training_score"
      ]
    },
    {
      "cell_type": "code",
      "execution_count": null,
      "metadata": {
        "colab": {
          "base_uri": "https://localhost:8080/",
          "height": 119
        },
        "id": "DiY53PAIcwpO",
        "outputId": "6ef0c4fc-d6b0-4aff-d965-8e56098d8ba1"
      },
      "outputs": [],
      "source": [
        "# model evaluation for testing set\n",
        "\n",
        "mae = mean_absolute_error(y_test, y_pred)\n",
        "mse = mean_squared_error(y_test, y_pred)\n",
        "rmse = math.sqrt(mean_squared_error(y_test, y_pred))\n",
        "r2 = r2_score(y_test, y_pred)\n",
        "\n",
        "\n",
        "print(\"The model performance for testing set\")\n",
        "print(\"--------------------------------------\")\n",
        "print('MAE:  {}'.format(round(mae)))\n",
        "print('MSE:  {}'.format(round(mse)))\n",
        "print('RMSE: {}'.format(round(rmse)))\n",
        "print('R2:   {}'.format(round(r2, 3)))"
      ]
    },
    {
      "cell_type": "code",
      "execution_count": null,
      "metadata": {
        "colab": {
          "base_uri": "https://localhost:8080/",
          "height": 238
        },
        "id": "55YgZjnvdQNm",
        "outputId": "4375de24-9fb9-4d4a-dfa2-8b64bacd0f33"
      },
      "outputs": [],
      "source": [
        "rf_price= pd.DataFrame({'Actual':y_test,'Predict':y_pred})\n",
        "rf_price.head()"
      ]
    },
    {
      "cell_type": "code",
      "execution_count": null,
      "metadata": {
        "colab": {
          "base_uri": "https://localhost:8080/",
          "height": 265
        },
        "id": "-t_QwRblcwmJ",
        "outputId": "ef75650c-9db5-41bf-acbe-ee4b23c94e20"
      },
      "outputs": [],
      "source": [
        "rf_reg = rf_price.plot.kde()"
      ]
    },
    {
      "cell_type": "markdown",
      "metadata": {
        "id": "ECTj1K-ldbpW"
      },
      "source": [
        "### ExtraTreeRegressor"
      ]
    },
    {
      "cell_type": "code",
      "execution_count": null,
      "metadata": {
        "colab": {
          "base_uri": "https://localhost:8080/"
        },
        "id": "8tCcApl3cwiz",
        "outputId": "923550bd-f111-4dae-86c5-46f92bf2ba23"
      },
      "outputs": [],
      "source": [
        "from sklearn.ensemble import ExtraTreesRegressor\n",
        "model5=ExtraTreesRegressor()\n",
        "model5.fit(X_train,y_train)"
      ]
    },
    {
      "cell_type": "code",
      "execution_count": null,
      "metadata": {
        "colab": {
          "base_uri": "https://localhost:8080/"
        },
        "id": "GVErTh_7cwgB",
        "outputId": "b791bb75-31aa-4e3a-faa7-b8883c4b142f"
      },
      "outputs": [],
      "source": [
        "y_pred = model5.predict(X_test)\n",
        "xtr=(r2_score(y_test, y_pred))\n",
        "xtr"
      ]
    },
    {
      "cell_type": "code",
      "execution_count": null,
      "metadata": {
        "colab": {
          "base_uri": "https://localhost:8080/"
        },
        "id": "IOaBsv8CcwYH",
        "outputId": "0cb14922-29fa-4954-bed9-4b639950d821"
      },
      "outputs": [],
      "source": [
        "xtr_train_score=model5.score(X_train,y_train)\n",
        "xtr_train_score"
      ]
    },
    {
      "cell_type": "code",
      "execution_count": null,
      "metadata": {
        "colab": {
          "base_uri": "https://localhost:8080/",
          "height": 238
        },
        "id": "SCdaO299dyzK",
        "outputId": "d3c8d096-0443-4063-e45c-6a30737f3586"
      },
      "outputs": [],
      "source": [
        "xtr_price= pd.DataFrame({'Actual':y_test,'Predict':y_pred})\n",
        "xtr_price.head()"
      ]
    },
    {
      "cell_type": "code",
      "execution_count": null,
      "metadata": {
        "colab": {
          "base_uri": "https://localhost:8080/",
          "height": 265
        },
        "id": "OpyI3Fchd4nR",
        "outputId": "01ab801c-bd88-4530-9092-1d947387ee6b"
      },
      "outputs": [],
      "source": [
        "xt_reg = xtr_price.plot.kde()"
      ]
    },
    {
      "cell_type": "markdown",
      "metadata": {
        "id": "HjyRioZliXlE"
      },
      "source": [
        "### Analyzing all Model Performances"
      ]
    },
    {
      "cell_type": "code",
      "execution_count": null,
      "metadata": {
        "colab": {
          "base_uri": "https://localhost:8080/",
          "height": 206
        },
        "id": "4d4oU4Xbd-tY",
        "outputId": "4226dfbd-4825-4cff-9538-7116fa8b5734"
      },
      "outputs": [],
      "source": [
        "score= [\n",
        "        ['Linear Regression', lr],\n",
        "        ['Ridge Regression', rr],\n",
        "        ['XGBoost Regressor', xgb],\n",
        "        ['Xtra tree Regressor', xtr],\n",
        "        ['RandomForestRegressor', rf]\n",
        "        ]\n",
        " \n",
        "predicted_pernight = pd.DataFrame(score, columns = ['Regression models', 'accuracy_scores'])\n",
        "predicted_pernight"
      ]
    },
    {
      "cell_type": "code",
      "execution_count": null,
      "metadata": {
        "colab": {
          "base_uri": "https://localhost:8080/",
          "height": 474
        },
        "id": "pArRFLvOghs8",
        "outputId": "ec0d93ca-f37a-4873-f5e8-8428676c2cb2"
      },
      "outputs": [],
      "source": [
        "plt.figure(figsize=(7,5))\n",
        "plt.xticks(rotation=90)\n",
        "plt.title('Regression models & accuracy scores',fontsize=20)\n",
        "sns.barplot(x=\"Regression models\", y=\"accuracy_scores\",  data=predicted_pernight ,palette = \"blend:#d900ff,#00ff77\")"
      ]
    },
    {
      "cell_type": "code",
      "execution_count": null,
      "metadata": {
        "colab": {
          "base_uri": "https://localhost:8080/",
          "height": 244
        },
        "id": "IKGCanvVifrC",
        "outputId": "2ff3d5be-10f2-49db-d0e7-f53058b62cb0"
      },
      "outputs": [],
      "source": [
        "# Scatter plot for the results\n",
        "\n",
        "plt.figure(figsize = (20,4))\n",
        "ax = plt.subplot(1,5,1)\n",
        "ax = plt.subplot(1,5,1).set_title('LinearRegression')\n",
        "sns.scatterplot(x=lr_price.Actual, y=lr_price.Predict)\n",
        "ax = plt.subplot(1,5,2)\n",
        "ax = plt.subplot(1,5,2).set_title('RandomForestRegressor')\n",
        "sns.scatterplot(x=rf_price.Actual, y=rf_price.Predict)\n",
        "ax = plt.subplot(1,5,3)\n",
        "ax = plt.subplot(1,5,3).set_title('XGBRegressor')\n",
        "sns.scatterplot(x=xgb_price.Actual, y=xgb_price.Predict)\n",
        "ax = plt.subplot(1,5,4)\n",
        "ax = plt.subplot(1,5,4).set_title('RidgeRegression')\n",
        "sns.scatterplot(x=rr_price.Actual, y=rr_price.Predict)\n",
        "ax = plt.subplot(1,5,5)\n",
        "ax = plt.subplot(1,5,5).set_title('Xtra tree Regressor')\n",
        "sns.scatterplot(x=xtr_price.Actual, y=xtr_price.Predict);"
      ]
    },
    {
      "cell_type": "code",
      "execution_count": null,
      "metadata": {
        "colab": {
          "base_uri": "https://localhost:8080/",
          "height": 1000
        },
        "id": "IE6OEAmujgC-",
        "outputId": "a2a2e528-5fef-458d-df39-d3f493733f57"
      },
      "outputs": [],
      "source": [
        "for i in [model1, model2, model3, model4, model5]:\n",
        "  visualizer = ResidualsPlot(\n",
        "      i,\n",
        "      hist=False,\n",
        "      qqplot=True,\n",
        "      size=(500, 300),\n",
        "      train_color=\"indigo\",\n",
        "      test_color=\"#00ff77\", \n",
        "      )\n",
        "\n",
        "  visualizer.fit(X_train, y_train)\n",
        "  visualizer.score(X_test, y_test)\n",
        "  g = visualizer.poof();"
      ]
    },
    {
      "cell_type": "markdown",
      "metadata": {},
      "source": [
        "### XGB Regression"
      ]
    },
    {
      "cell_type": "code",
      "execution_count": null,
      "metadata": {},
      "outputs": [],
      "source": [
        "X_train.shape"
      ]
    },
    {
      "cell_type": "code",
      "execution_count": null,
      "metadata": {},
      "outputs": [],
      "source": [
        "import xgboost as xgb\n",
        "housing_dmatrix = xgb.DMatrix(data=X_train, label=y_train)\n",
        "\n",
        "# Creata the parameter dictionary for each tree: params\n",
        "params = {\"objective\":\"reg:squarederror\", \"max_depth\":4}\n",
        "\n",
        "# Create list of number of boosting rounds\n",
        "num_rounds = [5, 10, 15, 20, 30, 40, 50, 60, 100, 500]\n",
        "\n",
        "# Empty list to store final round rmse per XGBoost model\n",
        "final_rmse_per_round = []\n",
        "\n",
        "# Interate over num_rounds and build one model per num_boost_round parameter\n",
        "for curr_num_rounds in num_rounds:\n",
        "    # Perform cross-validation: cv_results\n",
        "    cv_results = xgb.cv(dtrain=housing_dmatrix, params=params, nfold=10, \n",
        "                        num_boost_round=curr_num_rounds, metrics='rmse', \n",
        "                        as_pandas=True, seed=123)\n",
        "    \n",
        "    # Append final round RMSE\n",
        "    final_rmse_per_round.append(cv_results['test-rmse-mean'].tail().values[-1])\n",
        "    \n",
        "# Print the result DataFrame\n",
        "num_rounds_rmses = list(zip(num_rounds, final_rmse_per_round))\n",
        "print(pd.DataFrame(num_rounds_rmses, columns=['num_boosting_rounds', 'rmse']))"
      ]
    },
    {
      "cell_type": "code",
      "execution_count": null,
      "metadata": {},
      "outputs": [],
      "source": [
        "# Perform cross-validation with early-stopping: cv_results\n",
        "cv_results = xgb.cv(\n",
        "    dtrain=housing_dmatrix, \n",
        "    nfold=15,\n",
        "    params=params,\n",
        "    metrics=\"rmse\",\n",
        "    early_stopping_rounds=40,\n",
        "    num_boost_round=500,\n",
        "    as_pandas=True,\n",
        "    seed=1\n",
        "    )\n",
        "\n",
        "# Print cv_results\n",
        "print(cv_results)"
      ]
    },
    {
      "cell_type": "code",
      "execution_count": null,
      "metadata": {},
      "outputs": [],
      "source": [
        "eta_vals = [0.001, 0.005, .01, 0.1, .2, .3, .4, .5, .55, .57, .59, .6, .75, 1]\n",
        "best_rmse = []\n",
        "\n",
        "# Systematicallyvary the eta\n",
        "for curr_val in eta_vals:\n",
        "    params['eta'] = curr_val\n",
        "    \n",
        "    # Perform cross-validation: cv_results\n",
        "    cv_results = xgb.cv(dtrain=housing_dmatrix, params=params, nfold=30,\n",
        "                        early_stopping_rounds=40, num_boost_round=10, metrics='rmse', seed=123, \n",
        "                       as_pandas=True)\n",
        "    \n",
        "    # Append the final round rmse to best_rmse\n",
        "    best_rmse.append(cv_results['test-rmse-mean'].tail().values[-1])\n",
        "    \n",
        "# Print the result DataFrame\n",
        "print(pd.DataFrame(list(zip(eta_vals, best_rmse)), columns=['eta', 'best_rmse']))"
      ]
    },
    {
      "cell_type": "code",
      "execution_count": null,
      "metadata": {},
      "outputs": [],
      "source": [
        "# Create list of hyperparameter values: colsample_bytree_vals\n",
        "colsample_bytree_vals = [0.001, 0.005, .01, 0.1, .2, .21, .22, .23, .24, .3, .4, .5, .55, .57, .59, .6, .75, 1]\n",
        "best_rmse = []\n",
        "\n",
        "# Systematically vary the hyperparameter value \n",
        "for curr_val in colsample_bytree_vals:\n",
        "    params['colsample_bytree'] = curr_val\n",
        "    \n",
        "    # Perform cross-validation\n",
        "    cv_results = xgb.cv(dtrain=housing_dmatrix, params=params, nfold=2,\n",
        "                 num_boost_round=10, early_stopping_rounds=5,\n",
        "                 metrics=\"rmse\", as_pandas=True, seed=123)\n",
        "    \n",
        "    # Append the final round rmse to best_rmse\n",
        "    best_rmse.append(cv_results[\"test-rmse-mean\"].tail().values[-1])\n",
        "\n",
        "# Print the resultant DataFrame\n",
        "print(pd.DataFrame(list(zip(colsample_bytree_vals, best_rmse)), \n",
        "                   columns=[\"colsample_bytree\",\"best_rmse\"]))"
      ]
    },
    {
      "cell_type": "code",
      "execution_count": null,
      "metadata": {},
      "outputs": [],
      "source": [
        "# Create the parameter grid: gbm_param_grid\n",
        "gbm_param_grid = {\n",
        "    'colsample_bytree': [.5, 0.7, 1],\n",
        "    'n_estimators': [100, 200, 350, 500],\n",
        "    'max_depth': [2, 5, 7, 10]\n",
        "}\n",
        "\n",
        "# Instantiate the regressor: gbm\n",
        "gbm = xgb.XGBRegressor()\n",
        "\n",
        "# Perform grid search: grid_mse\n",
        "grid_mse = GridSearchCV(param_grid=gbm_param_grid, estimator=gbm, \n",
        "                        scoring='neg_mean_squared_error', cv=4, verbose=3)\n",
        "\n",
        "# Fit grid_mse to the data\n",
        "grid_mse.fit(X, y)\n",
        "\n",
        "# Print the best parameters and lowest RMSE\n",
        "print(\"Best parameters found: \", grid_mse.best_params_)\n",
        "print(\"Lowest RMSE found: \", np.sqrt(np.abs(grid_mse.best_score_)))"
      ]
    },
    {
      "cell_type": "code",
      "execution_count": null,
      "metadata": {},
      "outputs": [],
      "source": [
        "from sklearn.model_selection import RandomizedSearchCV\n",
        "\n",
        "# Create the parameter grid: gbm_param_grid\n",
        "gbm_param_grid = {\n",
        "    'n_estimators': [25, 50, 75, 100],\n",
        "    'max_depth': range(2, 16, 2)\n",
        "}\n",
        "\n",
        "# Instantiate the regressor: gbm\n",
        "gbm = xgb.XGBRegressor(n_estimators=10)\n",
        "\n",
        "# Perform random search: randomized_mse\n",
        "randomized_mse = RandomizedSearchCV(param_distributions=gbm_param_grid, estimator=gbm, \n",
        "                                    scoring='neg_mean_squared_error', n_iter=5, cv=4, \n",
        "                                   verbose=2)\n",
        "\n",
        "# Fit randomized_mse to the data\n",
        "randomized_mse.fit(X, y)\n",
        "\n",
        "# Print the best parameters and lowest RMSE\n",
        "print(\"Best parameters found: \", randomized_mse.best_params_)\n",
        "print(\"Lowest RMSE found: \", np.sqrt(np.abs(randomized_mse.best_score_)))"
      ]
    },
    {
      "cell_type": "markdown",
      "metadata": {},
      "source": [
        "### Other models"
      ]
    }
  ],
  "metadata": {
    "accelerator": "GPU",
    "colab": {
      "collapsed_sections": [
        "vyGOoQK--suC",
        "nma7g9uF-ysz",
        "HcqG7v8NJs6g",
        "M5mliYyNbS5O"
      ],
      "name": "Copy of Copy of Copy of RegressionModels.ipynb",
      "provenance": []
    },
    "interpreter": {
      "hash": "0722c8c7dc47d291528b2dd33cc68e07219c9276365983109bfa0a474f63df76"
    },
    "kernelspec": {
      "display_name": "Python 3.9.7 ('venv': venv)",
      "language": "python",
      "name": "python3"
    },
    "language_info": {
      "codemirror_mode": {
        "name": "ipython",
        "version": 3
      },
      "file_extension": ".py",
      "mimetype": "text/x-python",
      "name": "python",
      "nbconvert_exporter": "python",
      "pygments_lexer": "ipython3",
      "version": "3.9.7"
    },
    "orig_nbformat": 4
  },
  "nbformat": 4,
  "nbformat_minor": 0
}
