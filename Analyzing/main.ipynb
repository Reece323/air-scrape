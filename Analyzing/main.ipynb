{
 "cells": [
  {
   "cell_type": "markdown",
   "metadata": {},
   "source": [
    "\n",
    "<p align=\"center\"><img src=\"https://github.com/Reece323/air-scrape/blob/main/assets/airbnb_logo.png?raw=true\" width=\"300\"/></p>\n",
    "<center> <h1> Analyzing AirBnB Listings </h1> </center>\n"
   ]
  },
  {
   "cell_type": "markdown",
   "metadata": {},
   "source": [
    "\n",
    "### This project focuses on data gathered from AirBnB listings\n",
    "#### Goals:\n",
    "\n",
    "\n",
    "*   *Manipulating and Exploring the data*\n",
    "*   *Creating Visualizations*\n",
    "*   *Use Machine Learning*\n",
    "*   *Determine which features attracts consumers*\n",
    "*   *See how to increase revenue as `host`*"
   ]
  },
  {
   "cell_type": "code",
   "execution_count": 144,
   "metadata": {},
   "outputs": [],
   "source": [
    "# Imports\n",
    "import pandas as pd\n",
    "import numpy as np\n",
    "import json\n",
    "from pprint import pprint\n",
    "from rich.console import Console\n",
    "\n",
    "console = Console()\n",
    "print = console.print"
   ]
  },
  {
   "cell_type": "code",
   "execution_count": 146,
   "metadata": {},
   "outputs": [
    {
     "data": {
      "text/html": [
       "<pre style=\"white-space:pre;overflow-x:auto;line-height:normal;font-family:Menlo,'DejaVu Sans Mono',consolas,'Courier New',monospace\">Data type for one listing: <span style=\"font-weight: bold\">&lt;</span><span style=\"color: #ff00ff; text-decoration-color: #ff00ff; font-weight: bold\">class</span><span style=\"color: #000000; text-decoration-color: #000000\"> </span><span style=\"color: #008000; text-decoration-color: #008000\">'dict'</span><span style=\"font-weight: bold\">&gt;</span>\n",
       "</pre>\n"
      ],
      "text/plain": [
       "Data type for one listing: \u001b[1m<\u001b[0m\u001b[1;95mclass\u001b[0m\u001b[39m \u001b[0m\u001b[32m'dict'\u001b[0m\u001b[1m>\u001b[0m\n"
      ]
     },
     "metadata": {},
     "output_type": "display_data"
    },
    {
     "data": {
      "text/html": [
       "<pre style=\"white-space:pre;overflow-x:auto;line-height:normal;font-family:Menlo,'DejaVu Sans Mono',consolas,'Courier New',monospace\">Bentonville data keys:\n",
       "\n",
       " <span style=\"color: #800080; text-decoration-color: #800080; font-weight: bold\">dict_keys</span><span style=\"font-weight: bold\">([</span><span style=\"color: #008000; text-decoration-color: #008000\">'url'</span>, <span style=\"color: #008000; text-decoration-color: #008000\">'name'</span>, <span style=\"color: #008000; text-decoration-color: #008000\">'stars'</span>, <span style=\"color: #008000; text-decoration-color: #008000\">'numberOfGuests'</span>, <span style=\"color: #008000; text-decoration-color: #008000\">'address'</span>, <span style=\"color: #008000; text-decoration-color: #008000\">'roomType'</span>, <span style=\"color: #008000; text-decoration-color: #008000\">'location'</span>, \n",
       "<span style=\"color: #008000; text-decoration-color: #008000\">'reviews'</span>, <span style=\"color: #008000; text-decoration-color: #008000\">'pricing'</span>, <span style=\"color: #008000; text-decoration-color: #008000\">'calendar'</span>, <span style=\"color: #008000; text-decoration-color: #008000\">'listingAmenities'</span>, <span style=\"color: #008000; text-decoration-color: #008000\">'rootAmenitySections'</span>, \n",
       "<span style=\"color: #008000; text-decoration-color: #008000\">'seeAllAmenitySections'</span>, <span style=\"color: #008000; text-decoration-color: #008000\">'bathroomLabel'</span>, <span style=\"color: #008000; text-decoration-color: #008000\">'bedLabel'</span>, <span style=\"color: #008000; text-decoration-color: #008000\">'bedroomLabel'</span>, <span style=\"color: #008000; text-decoration-color: #008000\">'hasHouseRules'</span>, <span style=\"color: #008000; text-decoration-color: #008000\">'id'</span>, \n",
       "<span style=\"color: #008000; text-decoration-color: #008000\">'isNewListing'</span>, <span style=\"color: #008000; text-decoration-color: #008000\">'listingRooms'</span>, <span style=\"color: #008000; text-decoration-color: #008000\">'p3SummaryAddress'</span>, <span style=\"color: #008000; text-decoration-color: #008000\">'photos'</span>, <span style=\"color: #008000; text-decoration-color: #008000\">'primaryHost'</span>, \n",
       "<span style=\"color: #008000; text-decoration-color: #008000\">'roomTypeCategory'</span>, <span style=\"color: #008000; text-decoration-color: #008000\">'sectionedDescription'</span>, <span style=\"color: #008000; text-decoration-color: #008000\">'tierId'</span>, <span style=\"color: #008000; text-decoration-color: #008000\">'guestControls'</span>, <span style=\"color: #008000; text-decoration-color: #008000\">'hasSpecialOffer'</span>, \n",
       "<span style=\"color: #008000; text-decoration-color: #008000\">'maxNights'</span>, <span style=\"color: #008000; text-decoration-color: #008000\">'minNights'</span>, <span style=\"color: #008000; text-decoration-color: #008000\">'priceDetails'</span>, <span style=\"color: #008000; text-decoration-color: #008000\">'hasWeWorkLocation'</span>, <span style=\"color: #008000; text-decoration-color: #008000\">'isBusinessTravelReady'</span>, \n",
       "<span style=\"color: #008000; text-decoration-color: #008000\">'additionalHosts'</span>, <span style=\"color: #008000; text-decoration-color: #008000\">'isHostedBySuperhost'</span>, <span style=\"color: #008000; text-decoration-color: #008000\">'hometourRooms'</span>, <span style=\"color: #008000; text-decoration-color: #008000\">'hometourSections'</span>, \n",
       "<span style=\"color: #008000; text-decoration-color: #008000\">'descriptionLocale'</span>, <span style=\"color: #008000; text-decoration-color: #008000\">'initialDescriptionAuthorType'</span>, <span style=\"color: #008000; text-decoration-color: #008000\">'localizedCheckInTimeWindow'</span>, \n",
       "<span style=\"color: #008000; text-decoration-color: #008000\">'localizedCheckOutTime'</span>, <span style=\"color: #008000; text-decoration-color: #008000\">'city'</span>, <span style=\"color: #008000; text-decoration-color: #008000\">'country'</span>, <span style=\"color: #008000; text-decoration-color: #008000\">'countryCode'</span>, <span style=\"color: #008000; text-decoration-color: #008000\">'hasHostGuidebook'</span>, \n",
       "<span style=\"color: #008000; text-decoration-color: #008000\">'hasLocalAttractions'</span>, <span style=\"color: #008000; text-decoration-color: #008000\">'neighborhoodCommunityTags'</span>, <span style=\"color: #008000; text-decoration-color: #008000\">'state'</span>, \n",
       "<span style=\"color: #008000; text-decoration-color: #008000\">'paidGrowthRemarketingListingIds'</span>, <span style=\"color: #008000; text-decoration-color: #008000\">'hasCommercialHostInfo'</span>, <span style=\"color: #008000; text-decoration-color: #008000\">'reviewDetailsInterface'</span>, \n",
       "<span style=\"color: #008000; text-decoration-color: #008000\">'reviewsOrder'</span>, <span style=\"color: #008000; text-decoration-color: #008000\">'hostQuote'</span>, <span style=\"color: #008000; text-decoration-color: #008000\">'hostSignatureFont'</span>, <span style=\"color: #008000; text-decoration-color: #008000\">'nearbyAirportDistanceDescriptions'</span>, \n",
       "<span style=\"color: #008000; text-decoration-color: #008000\">'propertyTypeInCity'</span>, <span style=\"color: #008000; text-decoration-color: #008000\">'renderTierId'</span>, <span style=\"color: #008000; text-decoration-color: #008000\">'isHotel'</span>, <span style=\"color: #008000; text-decoration-color: #008000\">'showReviewTag'</span>, \n",
       "<span style=\"color: #008000; text-decoration-color: #008000\">'isRepresentativeInventory'</span>, <span style=\"color: #008000; text-decoration-color: #008000\">'localizedCity'</span>, <span style=\"color: #008000; text-decoration-color: #008000\">'highlights'</span>, <span style=\"color: #008000; text-decoration-color: #008000\">'highlightsImpressionId'</span>, \n",
       "<span style=\"color: #008000; text-decoration-color: #008000\">'categorizedPreviewAmenities'</span>, <span style=\"color: #008000; text-decoration-color: #008000\">'pointOfInterests'</span>, <span style=\"color: #008000; text-decoration-color: #008000\">'chinaPointsOfInterestMatcha'</span>, \n",
       "<span style=\"color: #008000; text-decoration-color: #008000\">'hostGuidebook'</span>, <span style=\"color: #008000; text-decoration-color: #008000\">'pageViewType'</span>, <span style=\"color: #008000; text-decoration-color: #008000\">'previewTags'</span>, <span style=\"color: #008000; text-decoration-color: #008000\">'seeAllHometourSections'</span>, <span style=\"color: #008000; text-decoration-color: #008000\">'educationModules'</span>,\n",
       "<span style=\"color: #008000; text-decoration-color: #008000\">'enableHighlightsVoting'</span>, <span style=\"color: #008000; text-decoration-color: #008000\">'listingExpectations'</span>, <span style=\"color: #008000; text-decoration-color: #008000\">'localizedListingExpectations'</span>, \n",
       "<span style=\"color: #008000; text-decoration-color: #008000\">'heroModule'</span>, <span style=\"color: #008000; text-decoration-color: #008000\">'reviewsModule'</span>, <span style=\"color: #008000; text-decoration-color: #008000\">'availabilityModule'</span>, <span style=\"color: #008000; text-decoration-color: #008000\">'additionalHouseRules'</span>, <span style=\"color: #008000; text-decoration-color: #008000\">'sortedReviews'</span>,\n",
       "<span style=\"color: #008000; text-decoration-color: #008000\">'documentDisplayPictures'</span>, <span style=\"color: #008000; text-decoration-color: #008000\">'sections'</span>, <span style=\"color: #008000; text-decoration-color: #008000\">'metadata'</span>, <span style=\"color: #008000; text-decoration-color: #008000\">'p3ImpressionId'</span>, <span style=\"color: #008000; text-decoration-color: #008000\">'idStr'</span>, \n",
       "<span style=\"color: #008000; text-decoration-color: #008000\">'paidGrowthRemarketingListingIdsStr'</span><span style=\"font-weight: bold\">])</span>\n",
       "</pre>\n"
      ],
      "text/plain": [
       "Bentonville data keys:\n",
       "\n",
       " \u001b[1;35mdict_keys\u001b[0m\u001b[1m(\u001b[0m\u001b[1m[\u001b[0m\u001b[32m'url'\u001b[0m, \u001b[32m'name'\u001b[0m, \u001b[32m'stars'\u001b[0m, \u001b[32m'numberOfGuests'\u001b[0m, \u001b[32m'address'\u001b[0m, \u001b[32m'roomType'\u001b[0m, \u001b[32m'location'\u001b[0m, \n",
       "\u001b[32m'reviews'\u001b[0m, \u001b[32m'pricing'\u001b[0m, \u001b[32m'calendar'\u001b[0m, \u001b[32m'listingAmenities'\u001b[0m, \u001b[32m'rootAmenitySections'\u001b[0m, \n",
       "\u001b[32m'seeAllAmenitySections'\u001b[0m, \u001b[32m'bathroomLabel'\u001b[0m, \u001b[32m'bedLabel'\u001b[0m, \u001b[32m'bedroomLabel'\u001b[0m, \u001b[32m'hasHouseRules'\u001b[0m, \u001b[32m'id'\u001b[0m, \n",
       "\u001b[32m'isNewListing'\u001b[0m, \u001b[32m'listingRooms'\u001b[0m, \u001b[32m'p3SummaryAddress'\u001b[0m, \u001b[32m'photos'\u001b[0m, \u001b[32m'primaryHost'\u001b[0m, \n",
       "\u001b[32m'roomTypeCategory'\u001b[0m, \u001b[32m'sectionedDescription'\u001b[0m, \u001b[32m'tierId'\u001b[0m, \u001b[32m'guestControls'\u001b[0m, \u001b[32m'hasSpecialOffer'\u001b[0m, \n",
       "\u001b[32m'maxNights'\u001b[0m, \u001b[32m'minNights'\u001b[0m, \u001b[32m'priceDetails'\u001b[0m, \u001b[32m'hasWeWorkLocation'\u001b[0m, \u001b[32m'isBusinessTravelReady'\u001b[0m, \n",
       "\u001b[32m'additionalHosts'\u001b[0m, \u001b[32m'isHostedBySuperhost'\u001b[0m, \u001b[32m'hometourRooms'\u001b[0m, \u001b[32m'hometourSections'\u001b[0m, \n",
       "\u001b[32m'descriptionLocale'\u001b[0m, \u001b[32m'initialDescriptionAuthorType'\u001b[0m, \u001b[32m'localizedCheckInTimeWindow'\u001b[0m, \n",
       "\u001b[32m'localizedCheckOutTime'\u001b[0m, \u001b[32m'city'\u001b[0m, \u001b[32m'country'\u001b[0m, \u001b[32m'countryCode'\u001b[0m, \u001b[32m'hasHostGuidebook'\u001b[0m, \n",
       "\u001b[32m'hasLocalAttractions'\u001b[0m, \u001b[32m'neighborhoodCommunityTags'\u001b[0m, \u001b[32m'state'\u001b[0m, \n",
       "\u001b[32m'paidGrowthRemarketingListingIds'\u001b[0m, \u001b[32m'hasCommercialHostInfo'\u001b[0m, \u001b[32m'reviewDetailsInterface'\u001b[0m, \n",
       "\u001b[32m'reviewsOrder'\u001b[0m, \u001b[32m'hostQuote'\u001b[0m, \u001b[32m'hostSignatureFont'\u001b[0m, \u001b[32m'nearbyAirportDistanceDescriptions'\u001b[0m, \n",
       "\u001b[32m'propertyTypeInCity'\u001b[0m, \u001b[32m'renderTierId'\u001b[0m, \u001b[32m'isHotel'\u001b[0m, \u001b[32m'showReviewTag'\u001b[0m, \n",
       "\u001b[32m'isRepresentativeInventory'\u001b[0m, \u001b[32m'localizedCity'\u001b[0m, \u001b[32m'highlights'\u001b[0m, \u001b[32m'highlightsImpressionId'\u001b[0m, \n",
       "\u001b[32m'categorizedPreviewAmenities'\u001b[0m, \u001b[32m'pointOfInterests'\u001b[0m, \u001b[32m'chinaPointsOfInterestMatcha'\u001b[0m, \n",
       "\u001b[32m'hostGuidebook'\u001b[0m, \u001b[32m'pageViewType'\u001b[0m, \u001b[32m'previewTags'\u001b[0m, \u001b[32m'seeAllHometourSections'\u001b[0m, \u001b[32m'educationModules'\u001b[0m,\n",
       "\u001b[32m'enableHighlightsVoting'\u001b[0m, \u001b[32m'listingExpectations'\u001b[0m, \u001b[32m'localizedListingExpectations'\u001b[0m, \n",
       "\u001b[32m'heroModule'\u001b[0m, \u001b[32m'reviewsModule'\u001b[0m, \u001b[32m'availabilityModule'\u001b[0m, \u001b[32m'additionalHouseRules'\u001b[0m, \u001b[32m'sortedReviews'\u001b[0m,\n",
       "\u001b[32m'documentDisplayPictures'\u001b[0m, \u001b[32m'sections'\u001b[0m, \u001b[32m'metadata'\u001b[0m, \u001b[32m'p3ImpressionId'\u001b[0m, \u001b[32m'idStr'\u001b[0m, \n",
       "\u001b[32m'paidGrowthRemarketingListingIdsStr'\u001b[0m\u001b[1m]\u001b[0m\u001b[1m)\u001b[0m\n"
      ]
     },
     "metadata": {},
     "output_type": "display_data"
    },
    {
     "ename": "AttributeError",
     "evalue": "'str' object has no attribute 'values'",
     "output_type": "error",
     "traceback": [
      "\u001b[0;31m---------------------------------------------------------------------------\u001b[0m",
      "\u001b[0;31mAttributeError\u001b[0m                            Traceback (most recent call last)",
      "\u001b[1;32m/Users/codyreece/Desktop/Repos/airbnb/air-scrape/Analyzing/main.ipynb Cell 4'\u001b[0m in \u001b[0;36m<cell line: 12>\u001b[0;34m()\u001b[0m\n\u001b[1;32m     <a href='vscode-notebook-cell:/Users/codyreece/Desktop/Repos/airbnb/air-scrape/Analyzing/main.ipynb#ch0000002?line=9'>10</a>\u001b[0m \u001b[39mprint\u001b[39m(\u001b[39mf\u001b[39m\u001b[39m'\u001b[39m\u001b[39mBentonville data keys:\u001b[39m\u001b[39m\\n\u001b[39;00m\u001b[39m\\n\u001b[39;00m\u001b[39m \u001b[39m\u001b[39m{\u001b[39;00mBentonville_keys\u001b[39m}\u001b[39;00m\u001b[39m'\u001b[39m)\n\u001b[1;32m     <a href='vscode-notebook-cell:/Users/codyreece/Desktop/Repos/airbnb/air-scrape/Analyzing/main.ipynb#ch0000002?line=11'>12</a>\u001b[0m \u001b[39mfor\u001b[39;00m i \u001b[39min\u001b[39;00m Bentonville:\n\u001b[0;32m---> <a href='vscode-notebook-cell:/Users/codyreece/Desktop/Repos/airbnb/air-scrape/Analyzing/main.ipynb#ch0000002?line=12'>13</a>\u001b[0m     \u001b[39mprint\u001b[39m(Bentonville[i]\u001b[39m.\u001b[39;49mvalues())\n",
      "\u001b[0;31mAttributeError\u001b[0m: 'str' object has no attribute 'values'"
     ]
    }
   ],
   "source": [
    "Bentonville_json = '/Users/codyreece/Desktop/Repos/airbnb/air-scrape/Data/Bentonville.json'\n",
    "\n",
    "with open(Bentonville_json) as f:\n",
    "    Bentonville = json.load(f)\n",
    "\n",
    "print(f'Data type for one listing: {type(Bentonville)}')\n",
    "# pprint(Bentonville, sort_dicts=False)\n",
    "\n",
    "Bentonville_keys = Bentonville.keys()\n",
    "print(f'Bentonville data keys:\\n\\n {Bentonville_keys}')"
   ]
  },
  {
   "cell_type": "code",
   "execution_count": 134,
   "metadata": {},
   "outputs": [
    {
     "data": {
      "text/html": [
       "<div>\n",
       "<style scoped>\n",
       "    .dataframe tbody tr th:only-of-type {\n",
       "        vertical-align: middle;\n",
       "    }\n",
       "\n",
       "    .dataframe tbody tr th {\n",
       "        vertical-align: top;\n",
       "    }\n",
       "\n",
       "    .dataframe thead th {\n",
       "        text-align: right;\n",
       "    }\n",
       "</style>\n",
       "<table border=\"1\" class=\"dataframe\">\n",
       "  <thead>\n",
       "    <tr style=\"text-align: right;\">\n",
       "      <th></th>\n",
       "      <th>url</th>\n",
       "      <th>name</th>\n",
       "      <th>stars</th>\n",
       "      <th>numberOfGuests</th>\n",
       "      <th>address</th>\n",
       "      <th>roomType</th>\n",
       "      <th>reviews</th>\n",
       "      <th>calendar</th>\n",
       "      <th>listingAmenities</th>\n",
       "      <th>rootAmenitySections</th>\n",
       "      <th>...</th>\n",
       "      <th>reviewDetailsInterface.reviewCount</th>\n",
       "      <th>reviewDetailsInterface.reviewSummary</th>\n",
       "      <th>hostSignatureFont.url</th>\n",
       "      <th>hostGuidebook.guidebookUrl</th>\n",
       "      <th>hostGuidebook.localizedNameForHomesPdp</th>\n",
       "      <th>hostGuidebook.title</th>\n",
       "      <th>hostGuidebook.id</th>\n",
       "      <th>heroModule.categorizedPhotos</th>\n",
       "      <th>reviewsModule.localizedOverallRating</th>\n",
       "      <th>reviewsModule.appreciationTags</th>\n",
       "    </tr>\n",
       "  </thead>\n",
       "  <tbody>\n",
       "    <tr>\n",
       "      <th>0</th>\n",
       "      <td>https://www.airbnb.com/rooms/32721035</td>\n",
       "      <td>Cozy &amp; Relaxing Suite: Pool/Movie Screen/Trails</td>\n",
       "      <td>5</td>\n",
       "      <td>4</td>\n",
       "      <td>Bentonville, Arkansas, United States</td>\n",
       "      <td>Entire guest suite</td>\n",
       "      <td>[{'author': {'firstName': 'Zach', 'hasProfileP...</td>\n",
       "      <td>[{'available': False, 'date': '2022-02-27'}, {...</td>\n",
       "      <td>[{'description': 'Space where guests can cook ...</td>\n",
       "      <td>[{'id': 'available_amenities', 'title': 'Ameni...</td>\n",
       "      <td>...</td>\n",
       "      <td>366</td>\n",
       "      <td>[{'value': 10, 'label': 'Accuracy', 'localized...</td>\n",
       "      <td>https://a0.muscache.com/airbnb/static/temp-fon...</td>\n",
       "      <td>/s/guidebooks?refinement_paths[]=/guidebooks/1...</td>\n",
       "      <td>Show guidebook</td>\n",
       "      <td>Experience Bentonville!</td>\n",
       "      <td>1461304</td>\n",
       "      <td>[]</td>\n",
       "      <td>4.96</td>\n",
       "      <td>[{'localizedText': 'Amazing amenities', 'local...</td>\n",
       "    </tr>\n",
       "  </tbody>\n",
       "</table>\n",
       "<p>1 rows × 131 columns</p>\n",
       "</div>"
      ],
      "text/plain": [
       "                                     url  \\\n",
       "0  https://www.airbnb.com/rooms/32721035   \n",
       "\n",
       "                                              name  stars  numberOfGuests  \\\n",
       "0  Cozy & Relaxing Suite: Pool/Movie Screen/Trails      5               4   \n",
       "\n",
       "                                address            roomType  \\\n",
       "0  Bentonville, Arkansas, United States  Entire guest suite   \n",
       "\n",
       "                                             reviews  \\\n",
       "0  [{'author': {'firstName': 'Zach', 'hasProfileP...   \n",
       "\n",
       "                                            calendar  \\\n",
       "0  [{'available': False, 'date': '2022-02-27'}, {...   \n",
       "\n",
       "                                    listingAmenities  \\\n",
       "0  [{'description': 'Space where guests can cook ...   \n",
       "\n",
       "                                 rootAmenitySections  ...  \\\n",
       "0  [{'id': 'available_amenities', 'title': 'Ameni...  ...   \n",
       "\n",
       "  reviewDetailsInterface.reviewCount  \\\n",
       "0                                366   \n",
       "\n",
       "                reviewDetailsInterface.reviewSummary  \\\n",
       "0  [{'value': 10, 'label': 'Accuracy', 'localized...   \n",
       "\n",
       "                               hostSignatureFont.url  \\\n",
       "0  https://a0.muscache.com/airbnb/static/temp-fon...   \n",
       "\n",
       "                          hostGuidebook.guidebookUrl  \\\n",
       "0  /s/guidebooks?refinement_paths[]=/guidebooks/1...   \n",
       "\n",
       "   hostGuidebook.localizedNameForHomesPdp      hostGuidebook.title  \\\n",
       "0                          Show guidebook  Experience Bentonville!   \n",
       "\n",
       "   hostGuidebook.id heroModule.categorizedPhotos  \\\n",
       "0           1461304                           []   \n",
       "\n",
       "  reviewsModule.localizedOverallRating  \\\n",
       "0                                 4.96   \n",
       "\n",
       "                      reviewsModule.appreciationTags  \n",
       "0  [{'localizedText': 'Amazing amenities', 'local...  \n",
       "\n",
       "[1 rows x 131 columns]"
      ]
     },
     "execution_count": 134,
     "metadata": {},
     "output_type": "execute_result"
    }
   ],
   "source": [
    "Bville = pd.json_normalize(Bentonville)\n",
    "Bville"
   ]
  },
  {
   "cell_type": "code",
   "execution_count": 136,
   "metadata": {},
   "outputs": [
    {
     "data": {
      "text/html": [
       "<div>\n",
       "<style scoped>\n",
       "    .dataframe tbody tr th:only-of-type {\n",
       "        vertical-align: middle;\n",
       "    }\n",
       "\n",
       "    .dataframe tbody tr th {\n",
       "        vertical-align: top;\n",
       "    }\n",
       "\n",
       "    .dataframe thead th {\n",
       "        text-align: right;\n",
       "    }\n",
       "</style>\n",
       "<table border=\"1\" class=\"dataframe\">\n",
       "  <thead>\n",
       "    <tr style=\"text-align: right;\">\n",
       "      <th></th>\n",
       "      <th>authorId</th>\n",
       "      <th>canBeEdited</th>\n",
       "      <th>comments</th>\n",
       "      <th>createdAt</th>\n",
       "      <th>id</th>\n",
       "      <th>idStr</th>\n",
       "      <th>listingId</th>\n",
       "      <th>recipientId</th>\n",
       "      <th>collectionTag</th>\n",
       "      <th>rating</th>\n",
       "      <th>...</th>\n",
       "      <th>author.thumbnailUrl</th>\n",
       "      <th>listing.id</th>\n",
       "      <th>listing.listingIdStr</th>\n",
       "      <th>listing.name</th>\n",
       "      <th>recipient.firstName</th>\n",
       "      <th>recipient.hasProfilePic</th>\n",
       "      <th>recipient.id</th>\n",
       "      <th>recipient.pictureUrl</th>\n",
       "      <th>recipient.smartName</th>\n",
       "      <th>recipient.thumbnailUrl</th>\n",
       "    </tr>\n",
       "  </thead>\n",
       "  <tbody>\n",
       "    <tr>\n",
       "      <th>0</th>\n",
       "      <td>190646734</td>\n",
       "      <td>False</td>\n",
       "      <td>Enjoyed our stay here! It was in a perfect loc...</td>\n",
       "      <td>2022-03-20T19:49:16Z</td>\n",
       "      <td>586942145063255700</td>\n",
       "      <td>586942145063255700</td>\n",
       "      <td>32721035</td>\n",
       "      <td>9209266</td>\n",
       "      <td>None</td>\n",
       "      <td>5</td>\n",
       "      <td>...</td>\n",
       "      <td>https://a0.muscache.com/im/pictures/user/85dcc...</td>\n",
       "      <td>32721035</td>\n",
       "      <td>32721035</td>\n",
       "      <td>Cozy &amp; Relaxing Suite: Pool/Movie Screen/Trails</td>\n",
       "      <td>Adam</td>\n",
       "      <td>True</td>\n",
       "      <td>9209266</td>\n",
       "      <td>https://a0.muscache.com/im/pictures/user/5059b...</td>\n",
       "      <td>Adam</td>\n",
       "      <td>https://a0.muscache.com/im/pictures/user/5059b...</td>\n",
       "    </tr>\n",
       "    <tr>\n",
       "      <th>1</th>\n",
       "      <td>1631680</td>\n",
       "      <td>False</td>\n",
       "      <td>The house, amenities and location were great. ...</td>\n",
       "      <td>2022-03-16T19:35:18Z</td>\n",
       "      <td>584036012465796700</td>\n",
       "      <td>584036012465796700</td>\n",
       "      <td>32721035</td>\n",
       "      <td>9209266</td>\n",
       "      <td>None</td>\n",
       "      <td>5</td>\n",
       "      <td>...</td>\n",
       "      <td>https://a0.muscache.com/im/pictures/user/2307f...</td>\n",
       "      <td>32721035</td>\n",
       "      <td>32721035</td>\n",
       "      <td>Cozy &amp; Relaxing Suite: Pool/Movie Screen/Trails</td>\n",
       "      <td>Adam</td>\n",
       "      <td>True</td>\n",
       "      <td>9209266</td>\n",
       "      <td>https://a0.muscache.com/im/pictures/user/5059b...</td>\n",
       "      <td>Adam</td>\n",
       "      <td>https://a0.muscache.com/im/pictures/user/5059b...</td>\n",
       "    </tr>\n",
       "    <tr>\n",
       "      <th>2</th>\n",
       "      <td>419991468</td>\n",
       "      <td>False</td>\n",
       "      <td>This place is amazing in terms of value, close...</td>\n",
       "      <td>2022-03-12T21:59:52Z</td>\n",
       "      <td>581209672219347700</td>\n",
       "      <td>581209672219347700</td>\n",
       "      <td>32721035</td>\n",
       "      <td>9209266</td>\n",
       "      <td>None</td>\n",
       "      <td>5</td>\n",
       "      <td>...</td>\n",
       "      <td>https://a0.muscache.com/im/pictures/user/bf6a3...</td>\n",
       "      <td>32721035</td>\n",
       "      <td>32721035</td>\n",
       "      <td>Cozy &amp; Relaxing Suite: Pool/Movie Screen/Trails</td>\n",
       "      <td>Adam</td>\n",
       "      <td>True</td>\n",
       "      <td>9209266</td>\n",
       "      <td>https://a0.muscache.com/im/pictures/user/5059b...</td>\n",
       "      <td>Adam</td>\n",
       "      <td>https://a0.muscache.com/im/pictures/user/5059b...</td>\n",
       "    </tr>\n",
       "  </tbody>\n",
       "</table>\n",
       "<p>3 rows × 29 columns</p>\n",
       "</div>"
      ],
      "text/plain": [
       "    authorId  canBeEdited                                           comments  \\\n",
       "0  190646734        False  Enjoyed our stay here! It was in a perfect loc...   \n",
       "1    1631680        False  The house, amenities and location were great. ...   \n",
       "2  419991468        False  This place is amazing in terms of value, close...   \n",
       "\n",
       "              createdAt                  id               idStr  listingId  \\\n",
       "0  2022-03-20T19:49:16Z  586942145063255700  586942145063255700   32721035   \n",
       "1  2022-03-16T19:35:18Z  584036012465796700  584036012465796700   32721035   \n",
       "2  2022-03-12T21:59:52Z  581209672219347700  581209672219347700   32721035   \n",
       "\n",
       "   recipientId collectionTag  rating  ...  \\\n",
       "0      9209266          None       5  ...   \n",
       "1      9209266          None       5  ...   \n",
       "2      9209266          None       5  ...   \n",
       "\n",
       "                                 author.thumbnailUrl listing.id  \\\n",
       "0  https://a0.muscache.com/im/pictures/user/85dcc...   32721035   \n",
       "1  https://a0.muscache.com/im/pictures/user/2307f...   32721035   \n",
       "2  https://a0.muscache.com/im/pictures/user/bf6a3...   32721035   \n",
       "\n",
       "  listing.listingIdStr                                     listing.name  \\\n",
       "0             32721035  Cozy & Relaxing Suite: Pool/Movie Screen/Trails   \n",
       "1             32721035  Cozy & Relaxing Suite: Pool/Movie Screen/Trails   \n",
       "2             32721035  Cozy & Relaxing Suite: Pool/Movie Screen/Trails   \n",
       "\n",
       "  recipient.firstName  recipient.hasProfilePic  recipient.id  \\\n",
       "0                Adam                     True       9209266   \n",
       "1                Adam                     True       9209266   \n",
       "2                Adam                     True       9209266   \n",
       "\n",
       "                                recipient.pictureUrl recipient.smartName  \\\n",
       "0  https://a0.muscache.com/im/pictures/user/5059b...                Adam   \n",
       "1  https://a0.muscache.com/im/pictures/user/5059b...                Adam   \n",
       "2  https://a0.muscache.com/im/pictures/user/5059b...                Adam   \n",
       "\n",
       "                              recipient.thumbnailUrl  \n",
       "0  https://a0.muscache.com/im/pictures/user/5059b...  \n",
       "1  https://a0.muscache.com/im/pictures/user/5059b...  \n",
       "2  https://a0.muscache.com/im/pictures/user/5059b...  \n",
       "\n",
       "[3 rows x 29 columns]"
      ]
     },
     "execution_count": 136,
     "metadata": {},
     "output_type": "execute_result"
    }
   ],
   "source": [
    "rev = pd.json_normalize(Bville.reviews[0])\n",
    "rev.head(3)"
   ]
  },
  {
   "cell_type": "code",
   "execution_count": 138,
   "metadata": {},
   "outputs": [
    {
     "data": {
      "text/plain": [
       "[\"Enjoyed our stay here! It was in a perfect location near downtown and all the biking trails. Clean place. Adam was very communicative through the entire process and made the stay enjoyable. If we ever come back to NWA, we'll be sure to see if this place is available.\",\n",
       " \"The house, amenities and location were great. The bedroom, living room, kitchen and bathroom were clean and well appointed. The a/v media center was fun for catching up on shows and the back porch was a plus for gearing up for the rides. Adam is an excellent host that made our trip easy and enjoyable with his timely communication and well appointed accommodations. Thanks for the Red Bull and popcorn! \\n\\nWe spent three days riding Slaughter Pen and Coler trails. It's a short warm up ride into town, then to the trails in either direction. Check out Wrights BBQ and the Airship coffee shop only accessible by bike or walking in the woods. It's a nice base to meet up at if you're riding the Coler trails.\",\n",
       " 'This place is amazing in terms of value, closeness to downtown and any of the bentonville trails and restaurants you could ever want to hit, nice and quiet neighborhood. Adam is very responsive with any questions or concerns that we had and was able to get us a couple of things that we needed for the room in a matter of hours. Highly recommended!',\n",
       " 'Adam’s place was great! It is spotless and exactly like the pictures. We appreciated the thoughtful touches such as treats in the refrigerator and special products. I look forward to staying there again.',\n",
       " 'Adam’s place was clean, In a fantastic location if your biking, and had a bunch of extras you can try.  I got introduced to Honey Mama chocolate bars while staying here and don’t know how I’ve survived without them.  Excellent value for the place.',\n",
       " 'This was so beautiful, peaceful, and cozy. Would love to stay again',\n",
       " 'This place was so cute and fun, and well thought out. They had well thought out layout and fun touches throughout the home. I think my favorite part was amount of places you could charge any device, normally that’s a struggle and there were so many through the home. \\n\\nWe didn’t have time to use like TVs or movie area but they are there. Hopefully another visit to be able to use the hammock area. \\n\\nIf you’re going to visit plan to be there more than a day, you won’t regret it',\n",
       " '***THIS IS THE PLACE TO STAY WHILE IN BENTONVILLE*** Adam and his family are great hosts and provide a wonderful space to stay while visiting. The amenities really take it to the next level and make the stay that much more comforting. If you are in town to mountain bike the ride is next to nothing as slaughter pen is pretty much across from the subdivision. It’s also close to the downtown and square area making that a quick commute.',\n",
       " 'It was a perfect stay very close to all the great food and museums. Adam was very communicative and the house hand book was very thorough making it a fun and easy stay.',\n",
       " 'This place was very clean and very comfortable. Highly recommend if coming to NWA.']"
      ]
     },
     "execution_count": 138,
     "metadata": {},
     "output_type": "execute_result"
    }
   ],
   "source": [
    "reviews_new = list(rev.comments)\n",
    "reviews_new\n"
   ]
  },
  {
   "cell_type": "code",
   "execution_count": 139,
   "metadata": {},
   "outputs": [
    {
     "data": {
      "text/html": [
       "<pre style=\"white-space:pre;overflow-x:auto;line-height:normal;font-family:Menlo,'DejaVu Sans Mono',consolas,'Courier New',monospace\">Enjoyed our stay here! It was in a perfect location near downtown and all the biking trails. \n",
       "Clean place. Adam was very communicative through the entire process and made the stay \n",
       "enjoyable. If we ever come back to NWA, we'll be sure to see if this place is available.\n",
       "</pre>\n"
      ],
      "text/plain": [
       "Enjoyed our stay here! It was in a perfect location near downtown and all the biking trails. \n",
       "Clean place. Adam was very communicative through the entire process and made the stay \n",
       "enjoyable. If we ever come back to NWA, we'll be sure to see if this place is available.\n"
      ]
     },
     "metadata": {},
     "output_type": "display_data"
    },
    {
     "data": {
      "text/html": [
       "<pre style=\"white-space:pre;overflow-x:auto;line-height:normal;font-family:Menlo,'DejaVu Sans Mono',consolas,'Courier New',monospace\">The house, amenities and location were great. The bedroom, living room, kitchen and bathroom \n",
       "were clean and well appointed. The a/v media center was fun for catching up on shows and the \n",
       "back porch was a plus for gearing up for the rides. Adam is an excellent host that made our \n",
       "trip easy and enjoyable with his timely communication and well appointed accommodations. \n",
       "Thanks for the Red Bull and popcorn! \n",
       "\n",
       "We spent three days riding Slaughter Pen and Coler trails. It's a short warm up ride into \n",
       "town, then to the trails in either direction. Check out Wrights BBQ and the Airship coffee \n",
       "shop only accessible by bike or walking in the woods. It's a nice base to meet up at if \n",
       "you're riding the Coler trails.\n",
       "</pre>\n"
      ],
      "text/plain": [
       "The house, amenities and location were great. The bedroom, living room, kitchen and bathroom \n",
       "were clean and well appointed. The a/v media center was fun for catching up on shows and the \n",
       "back porch was a plus for gearing up for the rides. Adam is an excellent host that made our \n",
       "trip easy and enjoyable with his timely communication and well appointed accommodations. \n",
       "Thanks for the Red Bull and popcorn! \n",
       "\n",
       "We spent three days riding Slaughter Pen and Coler trails. It's a short warm up ride into \n",
       "town, then to the trails in either direction. Check out Wrights BBQ and the Airship coffee \n",
       "shop only accessible by bike or walking in the woods. It's a nice base to meet up at if \n",
       "you're riding the Coler trails.\n"
      ]
     },
     "metadata": {},
     "output_type": "display_data"
    },
    {
     "data": {
      "text/html": [
       "<pre style=\"white-space:pre;overflow-x:auto;line-height:normal;font-family:Menlo,'DejaVu Sans Mono',consolas,'Courier New',monospace\">This place is amazing in terms of value, closeness to downtown and any of the bentonville \n",
       "trails and restaurants you could ever want to hit, nice and quiet neighborhood. Adam is very \n",
       "responsive with any questions or concerns that we had and was able to get us a couple of \n",
       "things that we needed for the room in a matter of hours. Highly recommended!\n",
       "</pre>\n"
      ],
      "text/plain": [
       "This place is amazing in terms of value, closeness to downtown and any of the bentonville \n",
       "trails and restaurants you could ever want to hit, nice and quiet neighborhood. Adam is very \n",
       "responsive with any questions or concerns that we had and was able to get us a couple of \n",
       "things that we needed for the room in a matter of hours. Highly recommended!\n"
      ]
     },
     "metadata": {},
     "output_type": "display_data"
    },
    {
     "data": {
      "text/html": [
       "<pre style=\"white-space:pre;overflow-x:auto;line-height:normal;font-family:Menlo,'DejaVu Sans Mono',consolas,'Courier New',monospace\">Adam’s place was great! It is spotless and exactly like the pictures. We appreciated the \n",
       "thoughtful touches such as treats in the refrigerator and special products. I look forward to\n",
       "staying there again.\n",
       "</pre>\n"
      ],
      "text/plain": [
       "Adam’s place was great! It is spotless and exactly like the pictures. We appreciated the \n",
       "thoughtful touches such as treats in the refrigerator and special products. I look forward to\n",
       "staying there again.\n"
      ]
     },
     "metadata": {},
     "output_type": "display_data"
    },
    {
     "data": {
      "text/html": [
       "<pre style=\"white-space:pre;overflow-x:auto;line-height:normal;font-family:Menlo,'DejaVu Sans Mono',consolas,'Courier New',monospace\">Adam’s place was clean, In a fantastic location if your biking, and had a bunch of extras you\n",
       "can try.  I got introduced to Honey Mama chocolate bars while staying here and don’t know how\n",
       "I’ve survived without them.  Excellent value for the place.\n",
       "</pre>\n"
      ],
      "text/plain": [
       "Adam’s place was clean, In a fantastic location if your biking, and had a bunch of extras you\n",
       "can try.  I got introduced to Honey Mama chocolate bars while staying here and don’t know how\n",
       "I’ve survived without them.  Excellent value for the place.\n"
      ]
     },
     "metadata": {},
     "output_type": "display_data"
    },
    {
     "data": {
      "text/html": [
       "<pre style=\"white-space:pre;overflow-x:auto;line-height:normal;font-family:Menlo,'DejaVu Sans Mono',consolas,'Courier New',monospace\">This was so beautiful, peaceful, and cozy. Would love to stay again\n",
       "</pre>\n"
      ],
      "text/plain": [
       "This was so beautiful, peaceful, and cozy. Would love to stay again\n"
      ]
     },
     "metadata": {},
     "output_type": "display_data"
    },
    {
     "data": {
      "text/html": [
       "<pre style=\"white-space:pre;overflow-x:auto;line-height:normal;font-family:Menlo,'DejaVu Sans Mono',consolas,'Courier New',monospace\">This place was so cute and fun, and well thought out. They had well thought out layout and \n",
       "fun touches throughout the home. I think my favorite part was amount of places you could \n",
       "charge any device, normally that’s a struggle and there were so many through the home. \n",
       "\n",
       "We didn’t have time to use like TVs or movie area but they are there. Hopefully another visit\n",
       "to be able to use the hammock area. \n",
       "\n",
       "If you’re going to visit plan to be there more than a day, you won’t regret it\n",
       "</pre>\n"
      ],
      "text/plain": [
       "This place was so cute and fun, and well thought out. They had well thought out layout and \n",
       "fun touches throughout the home. I think my favorite part was amount of places you could \n",
       "charge any device, normally that’s a struggle and there were so many through the home. \n",
       "\n",
       "We didn’t have time to use like TVs or movie area but they are there. Hopefully another visit\n",
       "to be able to use the hammock area. \n",
       "\n",
       "If you’re going to visit plan to be there more than a day, you won’t regret it\n"
      ]
     },
     "metadata": {},
     "output_type": "display_data"
    },
    {
     "data": {
      "text/html": [
       "<pre style=\"white-space:pre;overflow-x:auto;line-height:normal;font-family:Menlo,'DejaVu Sans Mono',consolas,'Courier New',monospace\">***THIS IS THE PLACE TO STAY WHILE IN BENTONVILLE*** Adam and his family are great hosts and \n",
       "provide a wonderful space to stay while visiting. The amenities really take it to the next \n",
       "level and make the stay that much more comforting. If you are in town to mountain bike the \n",
       "ride is next to nothing as slaughter pen is pretty much across from the subdivision. It’s \n",
       "also close to the downtown and square area making that a quick commute.\n",
       "</pre>\n"
      ],
      "text/plain": [
       "***THIS IS THE PLACE TO STAY WHILE IN BENTONVILLE*** Adam and his family are great hosts and \n",
       "provide a wonderful space to stay while visiting. The amenities really take it to the next \n",
       "level and make the stay that much more comforting. If you are in town to mountain bike the \n",
       "ride is next to nothing as slaughter pen is pretty much across from the subdivision. It’s \n",
       "also close to the downtown and square area making that a quick commute.\n"
      ]
     },
     "metadata": {},
     "output_type": "display_data"
    },
    {
     "data": {
      "text/html": [
       "<pre style=\"white-space:pre;overflow-x:auto;line-height:normal;font-family:Menlo,'DejaVu Sans Mono',consolas,'Courier New',monospace\">It was a perfect stay very close to all the great food and museums. Adam was very \n",
       "communicative and the house hand book was very thorough making it a fun and easy stay.\n",
       "</pre>\n"
      ],
      "text/plain": [
       "It was a perfect stay very close to all the great food and museums. Adam was very \n",
       "communicative and the house hand book was very thorough making it a fun and easy stay.\n"
      ]
     },
     "metadata": {},
     "output_type": "display_data"
    },
    {
     "data": {
      "text/html": [
       "<pre style=\"white-space:pre;overflow-x:auto;line-height:normal;font-family:Menlo,'DejaVu Sans Mono',consolas,'Courier New',monospace\">This place was very clean and very comfortable. Highly recommend if coming to NWA.\n",
       "</pre>\n"
      ],
      "text/plain": [
       "This place was very clean and very comfortable. Highly recommend if coming to NWA.\n"
      ]
     },
     "metadata": {},
     "output_type": "display_data"
    }
   ],
   "source": [
    "for iterating_thru in Bentonville[\"reviews\"]:\n",
    "    i = iterating_thru[\"comments\"]\n",
    "    print(i)\n"
   ]
  },
  {
   "cell_type": "code",
   "execution_count": null,
   "metadata": {},
   "outputs": [],
   "source": []
  }
 ],
 "metadata": {
  "interpreter": {
   "hash": "0722c8c7dc47d291528b2dd33cc68e07219c9276365983109bfa0a474f63df76"
  },
  "kernelspec": {
   "display_name": "Python 3 (ipykernel)",
   "language": "python",
   "name": "python3"
  },
  "language_info": {
   "codemirror_mode": {
    "name": "ipython",
    "version": 3
   },
   "file_extension": ".py",
   "mimetype": "text/x-python",
   "name": "python",
   "nbconvert_exporter": "python",
   "pygments_lexer": "ipython3",
   "version": "3.9.7"
  }
 },
 "nbformat": 4,
 "nbformat_minor": 4
}
